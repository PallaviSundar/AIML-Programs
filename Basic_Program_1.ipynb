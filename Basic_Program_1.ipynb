{
  "nbformat": 4,
  "nbformat_minor": 0,
  "metadata": {
    "colab": {
      "provenance": [],
      "authorship_tag": "ABX9TyOvJeeOZGf+QhypaR5JM8iY",
      "include_colab_link": true
    },
    "kernelspec": {
      "name": "python3",
      "display_name": "Python 3"
    },
    "language_info": {
      "name": "python"
    }
  },
  "cells": [
    {
      "cell_type": "markdown",
      "metadata": {
        "id": "view-in-github",
        "colab_type": "text"
      },
      "source": [
        "<a href=\"https://colab.research.google.com/github/PallaviSundar/AIML-Programs/blob/main/Basic_Program_1.ipynb\" target=\"_parent\"><img src=\"https://colab.research.google.com/assets/colab-badge.svg\" alt=\"Open In Colab\"/></a>"
      ]
    },
    {
      "cell_type": "markdown",
      "source": [
        "## OOD or EVEN number"
      ],
      "metadata": {
        "id": "ACBlbHzz7uMD"
      }
    },
    {
      "cell_type": "code",
      "metadata": {
        "colab": {
          "base_uri": "https://localhost:8080/"
        },
        "id": "3d5aaf43",
        "outputId": "b5d31f54-650d-41c9-c14f-b764900002fc"
      },
      "source": [
        "number = int(input(\"Enter a number: \"))\n",
        "if number % 2 == 0:\n",
        "    print(f\"{number} is an even number.\")\n",
        "else:\n",
        "    print(f\"{number} is an odd number.\")"
      ],
      "execution_count": null,
      "outputs": [
        {
          "output_type": "stream",
          "name": "stdout",
          "text": [
            "Enter a number: 5\n",
            "5 is an odd number.\n"
          ]
        }
      ]
    },
    {
      "cell_type": "code",
      "source": [
        "start_num = int(input(\"Enter the starting number of the range: \"))\n",
        "end_num = int(input(\"Enter the ending number of the range: \"))\n",
        "print(f\"Checking numbers from {start_num} to {end_num}:\")\n",
        "for num in range(start_num, end_num + 1):\n",
        "  if num % 2 == 0:\n",
        "    print(f\"{num} is Even\")\n",
        "  else:\n",
        "    print(f\"{num} is Odd\")"
      ],
      "metadata": {
        "colab": {
          "base_uri": "https://localhost:8080/"
        },
        "id": "0cKDjz6--YG4",
        "outputId": "2dd175fa-34c9-4a67-cfca-b849f0762dc9"
      },
      "execution_count": null,
      "outputs": [
        {
          "output_type": "stream",
          "name": "stdout",
          "text": [
            "Enter the starting number of the range: 2\n",
            "Enter the ending number of the range: 7\n",
            "Checking numbers from 2 to 7:\n",
            "2 is Even\n",
            "3 is Odd\n",
            "4 is Even\n",
            "5 is Odd\n",
            "6 is Even\n",
            "7 is Odd\n"
          ]
        }
      ]
    },
    {
      "cell_type": "code",
      "source": [
        "num=int(input(\"enter a number\"))\n",
        "if(num<0):\n",
        "  print(abs(num))\n",
        "else:\n",
        "  print(num)"
      ],
      "metadata": {
        "colab": {
          "base_uri": "https://localhost:8080/"
        },
        "id": "5h5_BOTh_EtJ",
        "outputId": "dda26201-cd7a-426c-d9c8-20a1026b4f82"
      },
      "execution_count": null,
      "outputs": [
        {
          "output_type": "stream",
          "name": "stdout",
          "text": [
            "enter a number-1\n",
            "1\n"
          ]
        }
      ]
    },
    {
      "cell_type": "markdown",
      "source": [
        "## Largest NUmber among 3 input"
      ],
      "metadata": {
        "id": "cLqTI677DpFm"
      }
    },
    {
      "cell_type": "code",
      "source": [
        "a = int(input(\"Enter first number: \"))\n",
        "b = int(input(\"Enter second number: \"))\n",
        "c = int(input(\"Enter third number: \"))\n",
        "\n",
        "if a >= b and a >= c:\n",
        "    print(\"Largest number is:\", a)\n",
        "elif b >= a and b >= c:\n",
        "    print(\"Largest number is:\", b)\n",
        "else:\n",
        "    print(\"Largest number is:\", c)"
      ],
      "metadata": {
        "colab": {
          "base_uri": "https://localhost:8080/"
        },
        "id": "AVRBI8jSAr8S",
        "outputId": "ff8fac13-3fb6-43d5-852d-e4e706d1fd98"
      },
      "execution_count": null,
      "outputs": [
        {
          "output_type": "stream",
          "name": "stdout",
          "text": [
            "Enter first number: 10\n",
            "Enter second number: 89\n",
            "Enter third number: 67\n",
            "Largest number is: 89\n"
          ]
        }
      ]
    },
    {
      "cell_type": "markdown",
      "source": [
        "## find last digit"
      ],
      "metadata": {
        "id": "50GliYkpDtpq"
      }
    },
    {
      "cell_type": "code",
      "source": [
        "num = int(input(\"Enter a number: \"))\n",
        "last_digit = num % 10\n",
        "print(\"The last digit is:\", last_digit)"
      ],
      "metadata": {
        "colab": {
          "base_uri": "https://localhost:8080/"
        },
        "id": "5bXwcBYvBxQz",
        "outputId": "d9592ec6-36ef-4a55-88c0-c99fe2c542f7"
      },
      "execution_count": null,
      "outputs": [
        {
          "output_type": "stream",
          "name": "stdout",
          "text": [
            "Enter a number: 23467\n",
            "The last digit is: 7\n"
          ]
        }
      ]
    },
    {
      "cell_type": "markdown",
      "source": [
        "## factorial number"
      ],
      "metadata": {
        "id": "Y5UYy2JpD1M2"
      }
    },
    {
      "cell_type": "code",
      "source": [
        "num = int(input(\"Enter a number: \"))\n",
        "fact = 1\n",
        "for i in range(1, num + 1):\n",
        "    fact = fact * i\n",
        "print(\"Factorial of\", num, \"is\", fact)\n"
      ],
      "metadata": {
        "colab": {
          "base_uri": "https://localhost:8080/"
        },
        "id": "f8eGw7csDWle",
        "outputId": "46de036d-b7fd-474e-f41d-2ecf7396cd2b"
      },
      "execution_count": null,
      "outputs": [
        {
          "output_type": "stream",
          "name": "stdout",
          "text": [
            "Enter a number: 4\n",
            "Factorial of 4 is 24\n"
          ]
        }
      ]
    },
    {
      "cell_type": "markdown",
      "source": [
        "## swapping"
      ],
      "metadata": {
        "id": "Iz3VDdrtMVt5"
      }
    },
    {
      "cell_type": "code",
      "source": [
        "a = 5\n",
        "b = 10\n",
        "a, b = b, a\n",
        "print(\"After swapping: a =\", a, \"b =\", b)"
      ],
      "metadata": {
        "colab": {
          "base_uri": "https://localhost:8080/"
        },
        "id": "vcynJuYSESvw",
        "outputId": "8778763d-cb7e-4a02-d78b-10276ac295d3"
      },
      "execution_count": null,
      "outputs": [
        {
          "output_type": "stream",
          "name": "stdout",
          "text": [
            "After swapping: a = 10 b = 5\n"
          ]
        }
      ]
    },
    {
      "cell_type": "code",
      "source": [
        "num1=int(input(\"enter first number:\"))\n",
        "num2=int(input(\"enter second number:\"))\n",
        "print(\"BEFORE SWAPPING\")\n",
        "print(num1,num2)\n",
        "print(\"AFTER SWAPPING\")\n",
        "num1=num1+num2\n",
        "num2=num1-num2\n",
        "num1=num1-num2\n",
        "print(num1,num2)"
      ],
      "metadata": {
        "colab": {
          "base_uri": "https://localhost:8080/"
        },
        "id": "M-MS8Dy_CLrf",
        "outputId": "d961c267-8c13-4b0b-be38-06c1e8416e25"
      },
      "execution_count": null,
      "outputs": [
        {
          "output_type": "stream",
          "name": "stdout",
          "text": [
            "enter first number:28\n",
            "enter second number:70\n",
            "BEFORE SWAPPING\n",
            "28 70\n",
            "AFTER SWAPPING\n",
            "70 28\n"
          ]
        }
      ]
    },
    {
      "cell_type": "code",
      "source": [
        "start_num = int(input(\"Enter the starting number of the range: \"))\n",
        "end_num = int(input(\"Enter the ending number of the range: \"))\n",
        "print(f\"Checking numbers from {start_num} to {end_num}:\")\n",
        "for num in range(start_num, end_num + 1):\n",
        "  if num % 2 == 0:\n",
        "    print(f\"{num} is Even\")\n",
        "  else:\n",
        "    print(f\"{num} is Odd\")\n",
        "\n",
        "    print(f\"Sum of even numbers in the range: {sum_even}\")\n",
        "    print(f\"Sum of odd numbers in the range: {sum_odd}\")\n"
      ],
      "metadata": {
        "colab": {
          "base_uri": "https://localhost:8080/"
        },
        "id": "FLBaY_JjNndA",
        "outputId": "b24c7e89-0b25-4311-be00-be3dd8c5ea8d"
      },
      "execution_count": null,
      "outputs": [
        {
          "output_type": "stream",
          "name": "stdout",
          "text": [
            "Enter the starting number of the range: 3\n",
            "Enter the ending number of the range: 75\n",
            "Checking numbers from 3 to 75:\n",
            "3 is Odd\n",
            "Sum of even numbers in the range: 1558\n",
            "Sum of odd numbers in the range: 1520\n",
            "4 is Even\n",
            "5 is Odd\n",
            "Sum of even numbers in the range: 1558\n",
            "Sum of odd numbers in the range: 1520\n",
            "6 is Even\n",
            "7 is Odd\n",
            "Sum of even numbers in the range: 1558\n",
            "Sum of odd numbers in the range: 1520\n",
            "8 is Even\n",
            "9 is Odd\n",
            "Sum of even numbers in the range: 1558\n",
            "Sum of odd numbers in the range: 1520\n",
            "10 is Even\n",
            "11 is Odd\n",
            "Sum of even numbers in the range: 1558\n",
            "Sum of odd numbers in the range: 1520\n",
            "12 is Even\n",
            "13 is Odd\n",
            "Sum of even numbers in the range: 1558\n",
            "Sum of odd numbers in the range: 1520\n",
            "14 is Even\n",
            "15 is Odd\n",
            "Sum of even numbers in the range: 1558\n",
            "Sum of odd numbers in the range: 1520\n",
            "16 is Even\n",
            "17 is Odd\n",
            "Sum of even numbers in the range: 1558\n",
            "Sum of odd numbers in the range: 1520\n",
            "18 is Even\n",
            "19 is Odd\n",
            "Sum of even numbers in the range: 1558\n",
            "Sum of odd numbers in the range: 1520\n",
            "20 is Even\n",
            "21 is Odd\n",
            "Sum of even numbers in the range: 1558\n",
            "Sum of odd numbers in the range: 1520\n",
            "22 is Even\n",
            "23 is Odd\n",
            "Sum of even numbers in the range: 1558\n",
            "Sum of odd numbers in the range: 1520\n",
            "24 is Even\n",
            "25 is Odd\n",
            "Sum of even numbers in the range: 1558\n",
            "Sum of odd numbers in the range: 1520\n",
            "26 is Even\n",
            "27 is Odd\n",
            "Sum of even numbers in the range: 1558\n",
            "Sum of odd numbers in the range: 1520\n",
            "28 is Even\n",
            "29 is Odd\n",
            "Sum of even numbers in the range: 1558\n",
            "Sum of odd numbers in the range: 1520\n",
            "30 is Even\n",
            "31 is Odd\n",
            "Sum of even numbers in the range: 1558\n",
            "Sum of odd numbers in the range: 1520\n",
            "32 is Even\n",
            "33 is Odd\n",
            "Sum of even numbers in the range: 1558\n",
            "Sum of odd numbers in the range: 1520\n",
            "34 is Even\n",
            "35 is Odd\n",
            "Sum of even numbers in the range: 1558\n",
            "Sum of odd numbers in the range: 1520\n",
            "36 is Even\n",
            "37 is Odd\n",
            "Sum of even numbers in the range: 1558\n",
            "Sum of odd numbers in the range: 1520\n",
            "38 is Even\n",
            "39 is Odd\n",
            "Sum of even numbers in the range: 1558\n",
            "Sum of odd numbers in the range: 1520\n",
            "40 is Even\n",
            "41 is Odd\n",
            "Sum of even numbers in the range: 1558\n",
            "Sum of odd numbers in the range: 1520\n",
            "42 is Even\n",
            "43 is Odd\n",
            "Sum of even numbers in the range: 1558\n",
            "Sum of odd numbers in the range: 1520\n",
            "44 is Even\n",
            "45 is Odd\n",
            "Sum of even numbers in the range: 1558\n",
            "Sum of odd numbers in the range: 1520\n",
            "46 is Even\n",
            "47 is Odd\n",
            "Sum of even numbers in the range: 1558\n",
            "Sum of odd numbers in the range: 1520\n",
            "48 is Even\n",
            "49 is Odd\n",
            "Sum of even numbers in the range: 1558\n",
            "Sum of odd numbers in the range: 1520\n",
            "50 is Even\n",
            "51 is Odd\n",
            "Sum of even numbers in the range: 1558\n",
            "Sum of odd numbers in the range: 1520\n",
            "52 is Even\n",
            "53 is Odd\n",
            "Sum of even numbers in the range: 1558\n",
            "Sum of odd numbers in the range: 1520\n",
            "54 is Even\n",
            "55 is Odd\n",
            "Sum of even numbers in the range: 1558\n",
            "Sum of odd numbers in the range: 1520\n",
            "56 is Even\n",
            "57 is Odd\n",
            "Sum of even numbers in the range: 1558\n",
            "Sum of odd numbers in the range: 1520\n",
            "58 is Even\n",
            "59 is Odd\n",
            "Sum of even numbers in the range: 1558\n",
            "Sum of odd numbers in the range: 1520\n",
            "60 is Even\n",
            "61 is Odd\n",
            "Sum of even numbers in the range: 1558\n",
            "Sum of odd numbers in the range: 1520\n",
            "62 is Even\n",
            "63 is Odd\n",
            "Sum of even numbers in the range: 1558\n",
            "Sum of odd numbers in the range: 1520\n",
            "64 is Even\n",
            "65 is Odd\n",
            "Sum of even numbers in the range: 1558\n",
            "Sum of odd numbers in the range: 1520\n",
            "66 is Even\n",
            "67 is Odd\n",
            "Sum of even numbers in the range: 1558\n",
            "Sum of odd numbers in the range: 1520\n",
            "68 is Even\n",
            "69 is Odd\n",
            "Sum of even numbers in the range: 1558\n",
            "Sum of odd numbers in the range: 1520\n",
            "70 is Even\n",
            "71 is Odd\n",
            "Sum of even numbers in the range: 1558\n",
            "Sum of odd numbers in the range: 1520\n",
            "72 is Even\n",
            "73 is Odd\n",
            "Sum of even numbers in the range: 1558\n",
            "Sum of odd numbers in the range: 1520\n",
            "74 is Even\n",
            "75 is Odd\n",
            "Sum of even numbers in the range: 1558\n",
            "Sum of odd numbers in the range: 1520\n"
          ]
        }
      ]
    },
    {
      "cell_type": "code",
      "metadata": {
        "colab": {
          "base_uri": "https://localhost:8080/"
        },
        "id": "9d1a156c",
        "outputId": "70f4c5d1-11f5-4421-e6e4-fededd5818e7"
      },
      "source": [
        "start_num = int(input(\"Enter the starting number of the range: \"))\n",
        "end_num = int(input(\"Enter the ending number of the range: \"))\n",
        "sum_even = 0\n",
        "sum_odd = 0\n",
        "for num in range(start_num, end_num + 1):\n",
        "    if num % 2 == 0:\n",
        "        sum_even += num\n",
        "    else:\n",
        "        sum_odd += num\n",
        "print(f\"Sum of even numbers in the range: {sum_even}\")\n",
        "print(f\"Sum of odd numbers in the range: {sum_odd}\")"
      ],
      "execution_count": null,
      "outputs": [
        {
          "output_type": "stream",
          "name": "stdout",
          "text": [
            "Enter the starting number of the range: 3\n",
            "Enter the ending number of the range: 78\n",
            "Sum of even numbers in the range: 1558\n",
            "Sum of odd numbers in the range: 1520\n"
          ]
        }
      ]
    },
    {
      "cell_type": "code",
      "source": [
        "num = int(input(\"Enter a number: \"))\n",
        "fact = 1\n",
        "for i in range(1, num + 1):\n",
        "    fact = fact * i\n",
        "print(\"Factorial of\", num, \"is\", fact)\n"
      ],
      "metadata": {
        "id": "vo6pR46fPQPk"
      },
      "execution_count": null,
      "outputs": []
    },
    {
      "cell_type": "code",
      "metadata": {
        "colab": {
          "base_uri": "https://localhost:8080/"
        },
        "id": "7120cb1c",
        "outputId": "3a208979-117b-4ec9-ec97-0c40d95ed2b2"
      },
      "source": [
        "num = int(input(\"Enter a non-negative integer: \"))\n",
        "if num < 0:\n",
        "    print(\"Factorial is not defined for negative numbers\")\n",
        "elif num == 0:\n",
        "    print(\"Factorial of 0 is 1\")\n",
        "else:\n",
        "    factorial = 1\n",
        "    print(\"Step | Calculation\")\n",
        "    print(\"-----|--------------\")\n",
        "    for i in range(1, num + 1):\n",
        "        print(f\" {i}   | {factorial} * {i} = {factorial * i}\")\n",
        "        factorial *= i\n",
        "    print(f\"\\nFactorial of {num} is {factorial}\")"
      ],
      "execution_count": null,
      "outputs": [
        {
          "output_type": "stream",
          "name": "stdout",
          "text": [
            "Enter a non-negative integer: 5\n",
            "Step | Calculation\n",
            "-----|--------------\n",
            " 1   | 1 * 1 = 1\n",
            " 2   | 1 * 2 = 2\n",
            " 3   | 2 * 3 = 6\n",
            " 4   | 6 * 4 = 24\n",
            " 5   | 24 * 5 = 120\n",
            "\n",
            "Factorial of 5 is 120\n"
          ]
        }
      ]
    },
    {
      "cell_type": "code",
      "source": [
        "leap_check_year = int(input(\"Enter a year to check: \"))\n",
        "\n",
        "if (leap_check_year % 4 == 0 and leap_check_year % 100 != 0) or (leap_check_year % 400 == 0):\n",
        "    print(f\"{leap_check_year} IS A LEAP YEAR.\")\n",
        "else:\n",
        "    print(f\"{leap_check_year} IS NOT A LEAP YEAR.\")"
      ],
      "metadata": {
        "colab": {
          "base_uri": "https://localhost:8080/"
        },
        "id": "jWORqUPEzgxr",
        "outputId": "d1eb7d1c-06c2-4d3f-c757-cd1a87c322ac"
      },
      "execution_count": null,
      "outputs": [
        {
          "output_type": "stream",
          "name": "stdout",
          "text": [
            "Enter a year to check: 2008\n",
            "2008 IS A LEAP YEAR.\n"
          ]
        }
      ]
    },
    {
      "cell_type": "code",
      "source": [
        "day = input(\"Enter the day: \").lower()\n",
        "if day == \"saturday\" or day == \"sunday\":\n",
        "    print(\"It's the weekend! No need for an alarm.\")\n",
        "else:\n",
        "    print(\"It's a weekday. Set the alarm!\")"
      ],
      "metadata": {
        "colab": {
          "base_uri": "https://localhost:8080/"
        },
        "id": "Ou7TUxIGz-nd",
        "outputId": "f03be116-6da2-4af6-92b1-309e449f98c5"
      },
      "execution_count": null,
      "outputs": [
        {
          "output_type": "stream",
          "name": "stdout",
          "text": [
            "Enter the day: MONDAY\n",
            "It's a weekday. Set the alarm!\n"
          ]
        }
      ]
    },
    {
      "cell_type": "code",
      "source": [
        "savings = int(input(\"Enter your savings amount: \"))\n",
        "if 10 <= savings <= 100:\n",
        "    print(\"Your savings are within the target range.\")\n",
        "else:\n",
        "    print(\"Your savings are out of the target range.\")"
      ],
      "metadata": {
        "colab": {
          "base_uri": "https://localhost:8080/"
        },
        "id": "aSwdcAzG0dhA",
        "outputId": "48df1eba-a300-49bd-d05d-53bf9789e3eb"
      },
      "execution_count": null,
      "outputs": [
        {
          "output_type": "stream",
          "name": "stdout",
          "text": [
            "Enter your savings amount: 200\n",
            "Your savings are out of the target range.\n"
          ]
        }
      ]
    },
    {
      "cell_type": "code",
      "source": [
        "score = int(input(\"Enter your score: \"))\n",
        "\n",
        "if score % 2 == 0 and score % 3 == 0 and score >= 5 and score != 9:\n",
        "    print(\"You're eligible for extra credit!\")\n",
        "else:\n",
        "    print(\"You are not eligible for extra credit. Keep working on improving your score!\")"
      ],
      "metadata": {
        "colab": {
          "base_uri": "https://localhost:8080/"
        },
        "id": "3rAufHh80vGz",
        "outputId": "76cbd9ec-fae9-4248-aa05-5be188e7bf01"
      },
      "execution_count": null,
      "outputs": [
        {
          "output_type": "stream",
          "name": "stdout",
          "text": [
            "Enter your score: 90\n",
            "You're eligible for extra credit!\n"
          ]
        }
      ]
    },
    {
      "cell_type": "code",
      "source": [
        "age = int(input(\"Enter your age: \"))\n",
        "purchase = float(input(\"Enter your purchase amount: \"))\n",
        "\n",
        "if age > 60 or purchase > 100:\n",
        "    print(\"You are eligible for a 20% discount.\")\n",
        "else:\n",
        "    print(\"You are not eligible for a discount.\")"
      ],
      "metadata": {
        "colab": {
          "base_uri": "https://localhost:8080/"
        },
        "id": "aKke16Tc1hNP",
        "outputId": "8de8d29e-b6ce-4584-9347-befbcf768809"
      },
      "execution_count": null,
      "outputs": [
        {
          "output_type": "stream",
          "name": "stdout",
          "text": [
            "Enter your age: 40\n",
            "Enter your purchase amount: 1600\n",
            "You are eligible for a 20% discount.\n"
          ]
        }
      ]
    },
    {
      "cell_type": "code",
      "source": [
        "password = input(\"Create your password: \")\n",
        "\n",
        "has_min_length = len(password) >= 8\n",
        "starts_with_uppercase = password[0].isupper()\n",
        "ends_with_lowercase = password[-1].islower()\n",
        "\n",
        "if has_min_length and starts_with_uppercase and ends_with_lowercase:\n",
        "    print(\"Strong password! Your account is secure.\")\n",
        "else:\n",
        "    print(\"Weak password! Ensure it is at least 8 characters long, starts with an uppercase letter, and ends with a lowercase letter.\")"
      ],
      "metadata": {
        "colab": {
          "base_uri": "https://localhost:8080/"
        },
        "id": "zGKvv6dX2eK7",
        "outputId": "fcccdcc7-5b18-4e43-9088-c19251899fd6"
      },
      "execution_count": null,
      "outputs": [
        {
          "output_type": "stream",
          "name": "stdout",
          "text": [
            "Create your password: PallaviSundar\n",
            "Strong password! Your account is secure.\n"
          ]
        }
      ]
    },
    {
      "cell_type": "code",
      "source": [
        "angle1 = int(input(\"Enter first angle: \"))\n",
        "angle2 = int(input(\"Enter second angle: \"))\n",
        "angle3 = int(input(\"Enter third angle: \"))\n",
        "\n",
        "if  angle1 > 0 and angle2 > 0 and angle3 > 0 and angle1 + angle2 + angle3 == 180:\n",
        "    print(\"The angles form a triangle.\")\n",
        "else:\n",
        "    print(\"The angles do not form a triangle.\")"
      ],
      "metadata": {
        "colab": {
          "base_uri": "https://localhost:8080/"
        },
        "id": "J7mS0QOL2yby",
        "outputId": "5d5f6b64-73a2-47a6-8d73-e53965ff3ca7"
      },
      "execution_count": null,
      "outputs": [
        {
          "output_type": "stream",
          "name": "stdout",
          "text": [
            "Enter first angle: 100\n",
            "Enter second angle: 40\n",
            "Enter third angle: 40\n",
            "The angles form a triangle.\n"
          ]
        }
      ]
    },
    {
      "cell_type": "code",
      "source": [
        "age = int(input(\"Enter your age: \"))\n",
        "criminal_record = input(\"Do you have a criminal record? (Yes/No): \").lower()\n",
        "vision_test_score = int(input(\"Enter your vision test score (0-10): \"))\n",
        "driving_practice_hours = int(input(\"Enter your total driving practice hours: \"))\n",
        "\n",
        "if (age >= 18 and not criminal_record == \"yes\" and (vision_test_score >= 6 or age >= 21) and driving_practice_hours >= 20) or driving_practice_hours > 50:\n",
        "    print(\"You are eligible for a driving license.\")\n",
        "else:\n",
        "    print(\"You are not eligible for a driving license.\")"
      ],
      "metadata": {
        "colab": {
          "base_uri": "https://localhost:8080/"
        },
        "id": "R_ziGgxh3Uof",
        "outputId": "ff1ffe10-ddac-4e82-dd8e-aeb79845ab72"
      },
      "execution_count": null,
      "outputs": [
        {
          "output_type": "stream",
          "name": "stdout",
          "text": [
            "Enter your age: 20\n",
            "Do you have a criminal record? (Yes/No): no\n",
            "Enter your vision test score (0-10): 5\n",
            "Enter your total driving practice hours: 10000\n",
            "You are eligible for a driving license.\n"
          ]
        }
      ]
    },
    {
      "cell_type": "code",
      "source": [
        "username = \"user123\"\n",
        "password = \"password123\"\n",
        "\n",
        "input_username = input(\"Enter your username: \")\n",
        "input_password = input(\"Enter your password: \")\n",
        "\n",
        "if input_username == username and input_password == password:\n",
        "    print(\"Login successful.\")\n",
        "else:\n",
        "    print(\"Invalid username or password.\")"
      ],
      "metadata": {
        "colab": {
          "base_uri": "https://localhost:8080/"
        },
        "id": "ueC7noYK30TA",
        "outputId": "76de14a6-b378-4f2d-9ddd-95ff4a6a6bff"
      },
      "execution_count": null,
      "outputs": [
        {
          "output_type": "stream",
          "name": "stdout",
          "text": [
            "Enter your username: user123\n",
            "Enter your password: password123\n",
            "Login successful.\n"
          ]
        }
      ]
    },
    {
      "cell_type": "code",
      "source": [
        "medical_condition = input(\"Enter your medical condition (HIV, Hepatitis, Malaria, None): \").lower()\n",
        "age = int(input(\"Enter your age: \"))\n",
        "recent_surgery = input(\"Have you had any surgery in the last 6 months? (Yes/No): \").lower()\n",
        "medications = input(\"Are you currently taking any medications? (Yes/No): \").lower()\n",
        "\n",
        "if (medical_condition != \"hiv\" and medical_condition != \"hepatitis\" and medical_condition != \"malaria\") and \\\n",
        "   (age >= 18) and \\\n",
        "   (recent_surgery != \"yes\") and \\\n",
        "   (medications != \"yes\" or medications == \"no\"):\n",
        "    print(\"Eligible to donate\")\n",
        "else:\n",
        "    print(\"Not eligible\")"
      ],
      "metadata": {
        "colab": {
          "base_uri": "https://localhost:8080/"
        },
        "id": "67AQeiUi4ErO",
        "outputId": "a5428ed8-fafa-482c-aedb-ae566b3d473e"
      },
      "execution_count": null,
      "outputs": [
        {
          "output_type": "stream",
          "name": "stdout",
          "text": [
            "Enter your medical condition (HIV, Hepatitis, Malaria, None): none\n",
            "Enter your age: 20\n",
            "Have you had any surgery in the last 6 months? (Yes/No): no\n",
            "Are you currently taking any medications? (Yes/No): no\n",
            "Eligible to donate\n"
          ]
        }
      ]
    },
    {
      "cell_type": "code",
      "source": [
        "distance = int(input(\"Enter the distance (in miles): \"))\n",
        "weight = int(input(\"Input the package weight (in pounds): \"))\n",
        "\n",
        "if distance <= 100 and weight <= 50:\n",
        "    print(\"The Package can be delivered\")\n",
        "else:\n",
        "    print(\"The package cannot be delivered.\")"
      ],
      "metadata": {
        "colab": {
          "base_uri": "https://localhost:8080/"
        },
        "id": "2uUV2jEP4Wlx",
        "outputId": "878e3525-ceab-4fcb-a48b-4f90521a3f0f"
      },
      "execution_count": null,
      "outputs": [
        {
          "output_type": "stream",
          "name": "stdout",
          "text": [
            "Enter the distance (in miles): 60\n",
            "Input the package weight (in pounds): 40\n",
            "The Package can be delivered\n"
          ]
        }
      ]
    },
    {
      "cell_type": "code",
      "source": [
        "temperature = int(input(\"Enter the temperature in Celsius: \"))\n",
        "if temperature > 35 or temperature < 0:\n",
        "    print(\"The temperature is not suitable for the plant to grow.\")\n",
        "else:\n",
        "    print(\"Plant can grow in this temperature.\")"
      ],
      "metadata": {
        "colab": {
          "base_uri": "https://localhost:8080/"
        },
        "id": "AwVjSPV-4ssl",
        "outputId": "90883a3e-a8c4-47d7-fc98-f9648ffff323"
      },
      "execution_count": null,
      "outputs": [
        {
          "output_type": "stream",
          "name": "stdout",
          "text": [
            "Enter the temperature in Celsius: 48\n",
            "The temperature is not suitable for the plant to grow.\n"
          ]
        }
      ]
    }
  ]
}