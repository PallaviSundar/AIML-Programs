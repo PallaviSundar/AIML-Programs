{
  "nbformat": 4,
  "nbformat_minor": 0,
  "metadata": {
    "colab": {
      "provenance": [],
      "authorship_tag": "ABX9TyNBOO35fM+YbxTln5NaJIOt",
      "include_colab_link": true
    },
    "kernelspec": {
      "name": "python3",
      "display_name": "Python 3"
    },
    "language_info": {
      "name": "python"
    }
  },
  "cells": [
    {
      "cell_type": "markdown",
      "metadata": {
        "id": "view-in-github",
        "colab_type": "text"
      },
      "source": [
        "<a href=\"https://colab.research.google.com/github/PallaviSundar/AIML-Programs/blob/main/bitwise_operator_in_python.ipynb\" target=\"_parent\"><img src=\"https://colab.research.google.com/assets/colab-badge.svg\" alt=\"Open In Colab\"/></a>"
      ]
    },
    {
      "cell_type": "markdown",
      "source": [
        "### Bitwise operator"
      ],
      "metadata": {
        "id": "8n3jK8iUwosF"
      }
    },
    {
      "cell_type": "code",
      "execution_count": null,
      "metadata": {
        "colab": {
          "base_uri": "https://localhost:8080/"
        },
        "id": "w2ZiBdFYvW69",
        "outputId": "41bb5372-8423-4784-d679-77a3860ff43f"
      },
      "outputs": [
        {
          "output_type": "stream",
          "name": "stdout",
          "text": [
            "binary of a:1010\n",
            "binary of b:0100\n"
          ]
        }
      ],
      "source": [
        "a=10\n",
        "b=4\n",
        "print(f\"binary of a:{a:04b}\")\n",
        "print(f\"binary of b:{b:04b}\")"
      ]
    },
    {
      "cell_type": "markdown",
      "source": [
        "### bitwise AND (&)\n",
        "Returns 1 if both bits are 1"
      ],
      "metadata": {
        "id": "nzMk41mlv0cf"
      }
    },
    {
      "cell_type": "code",
      "source": [
        "result=a&b\n",
        "print(f\"a&b={result}(binary:{result:04b})\")"
      ],
      "metadata": {
        "colab": {
          "base_uri": "https://localhost:8080/"
        },
        "id": "Yf_PWvVPwACf",
        "outputId": "ba98237b-e18a-4917-98bf-297512b2f8af"
      },
      "execution_count": null,
      "outputs": [
        {
          "output_type": "stream",
          "name": "stdout",
          "text": [
            "a&b=0(binary:0000)\n"
          ]
        }
      ]
    },
    {
      "cell_type": "markdown",
      "source": [
        "### bitwise OR(|)\n",
        "returns 1 if at least one of the bits is 1"
      ],
      "metadata": {
        "id": "BFbgRdsYw5yE"
      }
    },
    {
      "cell_type": "code",
      "source": [
        "result=a|b\n",
        "print(f\"a|b={result}(binary:{result:04b})\")"
      ],
      "metadata": {
        "colab": {
          "base_uri": "https://localhost:8080/"
        },
        "id": "bxHqxwq_w01n",
        "outputId": "5a483d1e-b3eb-46cb-e8b0-da851d641d82"
      },
      "execution_count": null,
      "outputs": [
        {
          "output_type": "stream",
          "name": "stdout",
          "text": [
            "a|b=14(binary:1110)\n"
          ]
        }
      ]
    },
    {
      "cell_type": "markdown",
      "source": [
        "### bitwise XOR(^)\n",
        "returns 1 if only one of the bits is 1"
      ],
      "metadata": {
        "id": "au-1xdSnxgyp"
      }
    },
    {
      "cell_type": "code",
      "source": [
        "result=a^b\n",
        "print(f\"a^b={result}(binary:{result:04b})\")"
      ],
      "metadata": {
        "colab": {
          "base_uri": "https://localhost:8080/"
        },
        "id": "zrLZ6q3Fxqjz",
        "outputId": "99c33f45-362d-4511-ee28-4d226438eacb"
      },
      "execution_count": null,
      "outputs": [
        {
          "output_type": "stream",
          "name": "stdout",
          "text": [
            "a^b=14(binary:1110)\n"
          ]
        }
      ]
    },
    {
      "cell_type": "markdown",
      "source": [
        "### bitwise NOT\n",
        "inverts all the bits in python ~a = -(a+1)"
      ],
      "metadata": {
        "id": "as1vavpjycaV"
      }
    },
    {
      "cell_type": "code",
      "source": [
        "result=~a\n",
        "print(f\"~a={result}(binary:{result:04b})\")\n"
      ],
      "metadata": {
        "colab": {
          "base_uri": "https://localhost:8080/"
        },
        "id": "GS9pB_14ycAv",
        "outputId": "54f77cf6-e357-42eb-eb6c-b34fc058de49"
      },
      "execution_count": null,
      "outputs": [
        {
          "output_type": "stream",
          "name": "stdout",
          "text": [
            "~a=-11(binary:-1011)\n"
          ]
        }
      ]
    },
    {
      "cell_type": "markdown",
      "source": [
        "### left shift(<<)\n",
        "shift bits to the left adding zeros on the right equivalent to muitiplyping by 2"
      ],
      "metadata": {
        "id": "AIomyJO40YcM"
      }
    },
    {
      "cell_type": "code",
      "source": [
        "result=a<<1\n",
        "print(f\"a<<1={result}(binary:{result:04b})\")\n"
      ],
      "metadata": {
        "colab": {
          "base_uri": "https://localhost:8080/"
        },
        "id": "sfdRcZgG0GkG",
        "outputId": "57e076c6-98f2-4bb0-ce43-f0baa030bdb6"
      },
      "execution_count": null,
      "outputs": [
        {
          "output_type": "stream",
          "name": "stdout",
          "text": [
            "a<<1=20(binary:10100)\n"
          ]
        }
      ]
    },
    {
      "cell_type": "markdown",
      "source": [
        "### right shift(>>)\n",
        "shift bis to the right.equilint to integer division by 2"
      ],
      "metadata": {
        "id": "ba_VpgcAziP7"
      }
    },
    {
      "cell_type": "code",
      "source": [
        "result=a>>1\n",
        "print(f\"a>>1={result}(binary:{result:04b})\")"
      ],
      "metadata": {
        "colab": {
          "base_uri": "https://localhost:8080/"
        },
        "id": "lxf3pNYBz8yT",
        "outputId": "031cf50a-6086-446f-c5ed-cf4eb3f4bc87"
      },
      "execution_count": null,
      "outputs": [
        {
          "output_type": "stream",
          "name": "stdout",
          "text": [
            "a>>1=5(binary:0101)\n"
          ]
        }
      ]
    }
  ]
}