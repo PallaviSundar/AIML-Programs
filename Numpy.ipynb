{
  "nbformat": 4,
  "nbformat_minor": 0,
  "metadata": {
    "colab": {
      "provenance": [],
      "authorship_tag": "ABX9TyMV8GmkPUWginp91DysM954",
      "include_colab_link": true
    },
    "kernelspec": {
      "name": "python3",
      "display_name": "Python 3"
    },
    "language_info": {
      "name": "python"
    }
  },
  "cells": [
    {
      "cell_type": "markdown",
      "metadata": {
        "id": "view-in-github",
        "colab_type": "text"
      },
      "source": [
        "<a href=\"https://colab.research.google.com/github/PallaviSundar/AIML-Programs/blob/main/Numpy.ipynb\" target=\"_parent\"><img src=\"https://colab.research.google.com/assets/colab-badge.svg\" alt=\"Open In Colab\"/></a>"
      ]
    },
    {
      "cell_type": "markdown",
      "source": [
        "### numpy array"
      ],
      "metadata": {
        "id": "GgvtqCGfCcRA"
      }
    },
    {
      "cell_type": "code",
      "execution_count": null,
      "metadata": {
        "colab": {
          "base_uri": "https://localhost:8080/"
        },
        "id": "Q0zVHTkZCbBz",
        "outputId": "4a6bd88a-a084-4674-cba9-00866789cb61"
      },
      "outputs": [
        {
          "output_type": "stream",
          "name": "stdout",
          "text": [
            "['delhi' 'mumbai' 'hydarabad' 'chennai']\n"
          ]
        }
      ],
      "source": [
        "import numpy as np\n",
        "cities=np.array(['delhi','mumbai','hydarabad','chennai'])\n",
        "solar_energy=np.array([100,30,50,39])\n",
        "wind_energy=np.array([105,300,500,678])\n",
        "print(cities)"
      ]
    },
    {
      "cell_type": "code",
      "source": [
        "print(solar_energy)"
      ],
      "metadata": {
        "colab": {
          "base_uri": "https://localhost:8080/"
        },
        "id": "x10LTczbDYfA",
        "outputId": "139533a8-0d5c-4693-9c1d-8b0814918c3d"
      },
      "execution_count": null,
      "outputs": [
        {
          "output_type": "stream",
          "name": "stdout",
          "text": [
            "[100  30  50  39]\n"
          ]
        }
      ]
    },
    {
      "cell_type": "code",
      "source": [
        "print(wind_energy)"
      ],
      "metadata": {
        "colab": {
          "base_uri": "https://localhost:8080/"
        },
        "id": "SOAERgepDfRk",
        "outputId": "3a642355-aef4-41f8-da6c-9e85f894c923"
      },
      "execution_count": null,
      "outputs": [
        {
          "output_type": "stream",
          "name": "stdout",
          "text": [
            "[105 300 500 678]\n"
          ]
        }
      ]
    },
    {
      "cell_type": "markdown",
      "source": [
        "### **1.array** creation"
      ],
      "metadata": {
        "id": "4ujSOSbTDqOm"
      }
    },
    {
      "cell_type": "code",
      "source": [
        "a=np.array([1,2,3])\n",
        "b=np.zeros(3)\n",
        "c=np.ones((2,2))\n",
        "d=np.arange(0,10,2)\n",
        "e=np.linspace(0,1,5)\n",
        "f=np.random.rand(3)"
      ],
      "metadata": {
        "id": "8AyZjiELDl02"
      },
      "execution_count": null,
      "outputs": []
    },
    {
      "cell_type": "code",
      "source": [
        "print(a)"
      ],
      "metadata": {
        "colab": {
          "base_uri": "https://localhost:8080/"
        },
        "id": "by9kFRmZE5yS",
        "outputId": "e8b60f72-9603-446f-f40c-9ea433526052"
      },
      "execution_count": null,
      "outputs": [
        {
          "output_type": "stream",
          "name": "stdout",
          "text": [
            "[1 2 3]\n"
          ]
        }
      ]
    },
    {
      "cell_type": "code",
      "source": [
        "print(b)"
      ],
      "metadata": {
        "colab": {
          "base_uri": "https://localhost:8080/"
        },
        "id": "lEGknH2cE88n",
        "outputId": "14968461-7644-4a90-8db4-5c1be16b773d"
      },
      "execution_count": null,
      "outputs": [
        {
          "output_type": "stream",
          "name": "stdout",
          "text": [
            "[0. 0. 0.]\n"
          ]
        }
      ]
    },
    {
      "cell_type": "code",
      "source": [
        "print(c)"
      ],
      "metadata": {
        "colab": {
          "base_uri": "https://localhost:8080/"
        },
        "id": "nusvTpoOE_w1",
        "outputId": "5df17be2-6ce0-4797-b275-bf23977a327b"
      },
      "execution_count": null,
      "outputs": [
        {
          "output_type": "stream",
          "name": "stdout",
          "text": [
            "[[1. 1.]\n",
            " [1. 1.]]\n"
          ]
        }
      ]
    },
    {
      "cell_type": "code",
      "source": [
        "print(d)"
      ],
      "metadata": {
        "colab": {
          "base_uri": "https://localhost:8080/"
        },
        "id": "eloiim6yFCo9",
        "outputId": "94b6c38f-5a65-4927-e318-68e402b10dac"
      },
      "execution_count": null,
      "outputs": [
        {
          "output_type": "stream",
          "name": "stdout",
          "text": [
            "[0 2 4 6 8]\n"
          ]
        }
      ]
    },
    {
      "cell_type": "code",
      "source": [
        "print(e)"
      ],
      "metadata": {
        "colab": {
          "base_uri": "https://localhost:8080/"
        },
        "id": "jh3E_Mm9FE8U",
        "outputId": "ebc3d8a7-60e6-49d7-c3ba-4c709c237d8e"
      },
      "execution_count": null,
      "outputs": [
        {
          "output_type": "stream",
          "name": "stdout",
          "text": [
            "[0.   0.25 0.5  0.75 1.  ]\n"
          ]
        }
      ]
    },
    {
      "cell_type": "code",
      "source": [
        "print(f)"
      ],
      "metadata": {
        "colab": {
          "base_uri": "https://localhost:8080/"
        },
        "id": "CztKQoRKFIKD",
        "outputId": "e9510bcb-352b-47a2-fc4c-33c65e5f74ce"
      },
      "execution_count": null,
      "outputs": [
        {
          "output_type": "stream",
          "name": "stdout",
          "text": [
            "[0.61137705 0.18842677 0.57892292]\n"
          ]
        }
      ]
    },
    {
      "cell_type": "code",
      "source": [
        "f=np.random.randint(3)\n",
        "print(f)"
      ],
      "metadata": {
        "colab": {
          "base_uri": "https://localhost:8080/"
        },
        "id": "qXeFg501FLxz",
        "outputId": "a0e7738a-c232-4c4d-9712-0b446414a8ba"
      },
      "execution_count": null,
      "outputs": [
        {
          "output_type": "stream",
          "name": "stdout",
          "text": [
            "2\n"
          ]
        }
      ]
    },
    {
      "cell_type": "markdown",
      "source": [
        "#### array attributes"
      ],
      "metadata": {
        "id": "SWuSDGBSFh7-"
      }
    },
    {
      "cell_type": "code",
      "source": [
        "print(\"Shape:\",solar_energy.shape)\n",
        "print(\"Datatype:\",solar_energy.dtype)\n",
        "print(\"Dimension:\",solar_energy.ndim)\n"
      ],
      "metadata": {
        "colab": {
          "base_uri": "https://localhost:8080/"
        },
        "id": "5yMx_-B1Fn7T",
        "outputId": "327541f7-aec6-41ef-a012-75eb2dac8e40"
      },
      "execution_count": null,
      "outputs": [
        {
          "output_type": "stream",
          "name": "stdout",
          "text": [
            "Shape: (4,)\n",
            "Datatype: int64\n",
            "Dimension: 1\n"
          ]
        }
      ]
    },
    {
      "cell_type": "markdown",
      "source": [
        "#### indexing and slicing"
      ],
      "metadata": {
        "id": "aDtmJRAWGFaw"
      }
    },
    {
      "cell_type": "code",
      "source": [
        "print(cities[0])"
      ],
      "metadata": {
        "colab": {
          "base_uri": "https://localhost:8080/"
        },
        "id": "qc1Jzcw-GEbL",
        "outputId": "96aa4a1a-5933-4d1f-af0a-401eb313d494"
      },
      "execution_count": null,
      "outputs": [
        {
          "output_type": "stream",
          "name": "stdout",
          "text": [
            "delhi\n"
          ]
        }
      ]
    },
    {
      "cell_type": "code",
      "source": [
        "print(solar_energy[0:3])"
      ],
      "metadata": {
        "colab": {
          "base_uri": "https://localhost:8080/"
        },
        "id": "QOQ5XOCJGiG1",
        "outputId": "3ce06910-447c-4224-d1ac-1c26a3237fa3"
      },
      "execution_count": null,
      "outputs": [
        {
          "output_type": "stream",
          "name": "stdout",
          "text": [
            "[100  30  50]\n"
          ]
        }
      ]
    },
    {
      "cell_type": "code",
      "source": [
        "print(solar_energy[-3::])"
      ],
      "metadata": {
        "colab": {
          "base_uri": "https://localhost:8080/"
        },
        "id": "-2mJnXoZHe98",
        "outputId": "9126a835-f255-4e01-9199-e1c037f239b8"
      },
      "execution_count": null,
      "outputs": [
        {
          "output_type": "stream",
          "name": "stdout",
          "text": [
            "[30 50 39]\n"
          ]
        }
      ]
    },
    {
      "cell_type": "code",
      "source": [
        "print(wind_energy[1:4])"
      ],
      "metadata": {
        "colab": {
          "base_uri": "https://localhost:8080/"
        },
        "id": "FnoSX9vbH0IU",
        "outputId": "b839e11c-7125-4a2d-e6b8-4ab9f210c4bc"
      },
      "execution_count": null,
      "outputs": [
        {
          "output_type": "stream",
          "name": "stdout",
          "text": [
            "[300 500 678]\n"
          ]
        }
      ]
    },
    {
      "cell_type": "code",
      "source": [
        "print(wind_energy[-3::])"
      ],
      "metadata": {
        "colab": {
          "base_uri": "https://localhost:8080/"
        },
        "id": "weHu_nQyIrmL",
        "outputId": "cbd3ad0f-a247-478f-edae-04aa87304689"
      },
      "execution_count": null,
      "outputs": [
        {
          "output_type": "stream",
          "name": "stdout",
          "text": [
            "[300 500 678]\n"
          ]
        }
      ]
    },
    {
      "cell_type": "code",
      "source": [
        "print(wind_energy[0::2])"
      ],
      "metadata": {
        "colab": {
          "base_uri": "https://localhost:8080/"
        },
        "id": "cUynh4uqI2Qr",
        "outputId": "4219c1ac-eb9e-4089-eb75-202a218b742d"
      },
      "execution_count": null,
      "outputs": [
        {
          "output_type": "stream",
          "name": "stdout",
          "text": [
            "[105 500]\n"
          ]
        }
      ]
    },
    {
      "cell_type": "markdown",
      "source": [
        "#### arthemetic operation in numeric python"
      ],
      "metadata": {
        "id": "-laYFQPcJebq"
      }
    },
    {
      "cell_type": "code",
      "source": [
        "total_energy=solar_energy+wind_energy\n",
        "dif_energy=solar_energy-wind_energy\n",
        "energy_sqared=solar_energy**2"
      ],
      "metadata": {
        "id": "l2wqnV87JVMz"
      },
      "execution_count": null,
      "outputs": []
    },
    {
      "cell_type": "code",
      "source": [
        "print(\"total_energy:\",total_energy)\n",
        "print(\"diffence in energy:\",dif_energy)\n",
        "print(\"squared solar:\",energy_sqared)"
      ],
      "metadata": {
        "colab": {
          "base_uri": "https://localhost:8080/"
        },
        "id": "28ko3fB4JLJF",
        "outputId": "e5418dfe-da30-45cc-c144-5835f60eb2ab"
      },
      "execution_count": null,
      "outputs": [
        {
          "output_type": "stream",
          "name": "stdout",
          "text": [
            "total_energy: [205 330 550 717]\n",
            "diffence in energy: [  -5 -270 -450 -639]\n",
            "squared solar: [10000   900  2500  1521]\n"
          ]
        }
      ]
    },
    {
      "cell_type": "code",
      "source": [
        "print(\"mean(solar):\",np.mean(solar_energy))\n",
        "print(\"median(wind):\",np.median(wind_energy))\n",
        "print(\"Standard Deviation(total):\",np.std(total_energy))\n",
        "print(\"variance(total):\",np.var(total_energy))\n",
        "print(\"minimum(solar):\",np.min(solar_energy))\n",
        "print(\"maximum(solar):\",np.max(solar_energy))"
      ],
      "metadata": {
        "colab": {
          "base_uri": "https://localhost:8080/"
        },
        "id": "_P0oHhWiKrj9",
        "outputId": "544a9c45-c566-489f-da8c-e78d3feb041c"
      },
      "execution_count": null,
      "outputs": [
        {
          "output_type": "stream",
          "name": "stdout",
          "text": [
            "mean(solar): 54.75\n",
            "median(wind): 400.0\n",
            "Standard Deviation(total): 197.30243282838657\n",
            "variance(total): 38928.25\n",
            "minimum(solar): 30\n",
            "maximum(solar): 100\n"
          ]
        }
      ]
    },
    {
      "cell_type": "markdown",
      "source": [
        "#### reshape and Traspose"
      ],
      "metadata": {
        "id": "oiBf6U67MEEO"
      }
    },
    {
      "cell_type": "code",
      "source": [
        "energy_matrix=np.array([solar_energy,wind_energy])\n",
        "print(\"original matrix:\\n\",energy_matrix)"
      ],
      "metadata": {
        "colab": {
          "base_uri": "https://localhost:8080/"
        },
        "id": "Ar79wtrPMOQB",
        "outputId": "4e25babb-046a-481b-d3b1-5d3f9cfdda01"
      },
      "execution_count": null,
      "outputs": [
        {
          "output_type": "stream",
          "name": "stdout",
          "text": [
            "original matrix:\n",
            " [[100  30  50  39]\n",
            " [105 300 500 678]]\n"
          ]
        }
      ]
    },
    {
      "cell_type": "code",
      "source": [
        "print(energy_matrix.T)"
      ],
      "metadata": {
        "colab": {
          "base_uri": "https://localhost:8080/"
        },
        "id": "DcEGCKDbMvUE",
        "outputId": "7a69b9a3-d6bb-4840-c3d0-068716a4e98e"
      },
      "execution_count": null,
      "outputs": [
        {
          "output_type": "stream",
          "name": "stdout",
          "text": [
            "[[100 105]\n",
            " [ 30 300]\n",
            " [ 50 500]\n",
            " [ 39 678]]\n"
          ]
        }
      ]
    },
    {
      "cell_type": "markdown",
      "source": [
        "#### boolean indexing"
      ],
      "metadata": {
        "id": "HeJg3Vssb5hu"
      }
    },
    {
      "cell_type": "code",
      "source": [
        "print(\"cities whith solar > 20:\",cities[solar_energy > 20])"
      ],
      "metadata": {
        "colab": {
          "base_uri": "https://localhost:8080/"
        },
        "id": "250qYVktbhsl",
        "outputId": "b150162b-0166-43c7-eeea-be71baa9daba"
      },
      "execution_count": null,
      "outputs": [
        {
          "output_type": "stream",
          "name": "stdout",
          "text": [
            "cities whith solar > 20: ['delhi' 'mumbai' 'hydarabad' 'chennai']\n"
          ]
        }
      ]
    },
    {
      "cell_type": "markdown",
      "source": [
        "#### aggregate functions"
      ],
      "metadata": {
        "id": "aaQCWwdCcvS_"
      }
    },
    {
      "cell_type": "code",
      "source": [
        "print(\"total solar energy:\",np.sum(solar_energy))\n",
        "print(\"product of wind energy:\",np.prod(wind_energy))\n",
        "print(\"cumulative sum (solar):\",np.cumsum(solar_energy))\n"
      ],
      "metadata": {
        "colab": {
          "base_uri": "https://localhost:8080/"
        },
        "id": "kPB8_j2wcgXW",
        "outputId": "7777f578-be02-4505-f41b-d223ce597811"
      },
      "execution_count": null,
      "outputs": [
        {
          "output_type": "stream",
          "name": "stdout",
          "text": [
            "total solar energy: 219\n",
            "product of wind energy: 10678500000\n",
            "cumulative sum (solar): [100 130 180 219]\n"
          ]
        }
      ]
    },
    {
      "cell_type": "markdown",
      "source": [
        "#### mathemetical functions"
      ],
      "metadata": {
        "id": "HoVgK9-0dtmG"
      }
    },
    {
      "cell_type": "code",
      "source": [
        "print(\"square root(solar)\",np.sqrt(solar_energy))\n",
        "print(\"exponential(wind)\",np.exp(wind_energy//100))\n"
      ],
      "metadata": {
        "colab": {
          "base_uri": "https://localhost:8080/"
        },
        "id": "wA_l6Mk8dmSd",
        "outputId": "a5ee6817-39c1-45bb-ee66-a170407a4db8"
      },
      "execution_count": null,
      "outputs": [
        {
          "output_type": "stream",
          "name": "stdout",
          "text": [
            "square root(solar) [10.          5.47722558  7.07106781  6.244998  ]\n",
            "exponential(wind) [  2.71828183  20.08553692 148.4131591  403.42879349]\n"
          ]
        }
      ]
    },
    {
      "cell_type": "code",
      "source": [
        "print(\"Sorted total energy:\",np.sort(total_energy))\n",
        "print(\"Index of max solar:\",np.argmax(solar_energy))\n",
        "print(\"Index of min wind:\",np.argmin(wind_energy))\n"
      ],
      "metadata": {
        "colab": {
          "base_uri": "https://localhost:8080/"
        },
        "id": "VrmGXff1dli_",
        "outputId": "efaeaa87-526d-4982-853f-62604dc174cb"
      },
      "execution_count": null,
      "outputs": [
        {
          "output_type": "stream",
          "name": "stdout",
          "text": [
            "Sorted total energy: [205 330 550 717]\n",
            "Index of max solar: 0\n",
            "Index of min wind: 0\n"
          ]
        }
      ]
    },
    {
      "cell_type": "markdown",
      "source": [
        "#### stacking arrays"
      ],
      "metadata": {
        "id": "V2GxiDK-fXoy"
      }
    },
    {
      "cell_type": "code",
      "source": [
        "v_stack=np.vstack((solar_energy,wind_energy))\n",
        "h_stack=np.hstack((solar_energy,wind_energy))\n",
        "print(\"vertical stack:\\n\",v_stack)"
      ],
      "metadata": {
        "colab": {
          "base_uri": "https://localhost:8080/"
        },
        "id": "3DwR_bPzfidq",
        "outputId": "55436314-7545-4965-efd7-c591d455310d"
      },
      "execution_count": null,
      "outputs": [
        {
          "output_type": "stream",
          "name": "stdout",
          "text": [
            "vertical stack:\n",
            " [[100  30  50  39]\n",
            " [105 300 500 678]]\n"
          ]
        }
      ]
    },
    {
      "cell_type": "code",
      "source": [
        "w1=np.arange(12).reshape(3,4)\n",
        "w2=np.arange(12,24).reshape(3,4)\n",
        "print(w1)\n",
        "print(w2)"
      ],
      "metadata": {
        "colab": {
          "base_uri": "https://localhost:8080/"
        },
        "id": "79sf33pxhQ27",
        "outputId": "59c16bd3-39a7-444c-d86b-338d9d6fdf34"
      },
      "execution_count": null,
      "outputs": [
        {
          "output_type": "stream",
          "name": "stdout",
          "text": [
            "[[ 0  1  2  3]\n",
            " [ 4  5  6  7]\n",
            " [ 8  9 10 11]]\n",
            "[[12 13 14 15]\n",
            " [16 17 18 19]\n",
            " [20 21 22 23]]\n"
          ]
        }
      ]
    },
    {
      "cell_type": "code",
      "source": [
        "np.hstack((w1,w2))"
      ],
      "metadata": {
        "colab": {
          "base_uri": "https://localhost:8080/"
        },
        "id": "ItXZwU4fhy4A",
        "outputId": "841e99e0-c091-40a7-96f3-5489965e5a30"
      },
      "execution_count": null,
      "outputs": [
        {
          "output_type": "execute_result",
          "data": {
            "text/plain": [
              "array([[ 0,  1,  2,  3, 12, 13, 14, 15],\n",
              "       [ 4,  5,  6,  7, 16, 17, 18, 19],\n",
              "       [ 8,  9, 10, 11, 20, 21, 22, 23]])"
            ]
          },
          "metadata": {},
          "execution_count": 55
        }
      ]
    },
    {
      "cell_type": "code",
      "source": [
        "np.vstack((w1,w2))"
      ],
      "metadata": {
        "colab": {
          "base_uri": "https://localhost:8080/"
        },
        "id": "NHzy7XcVh6yO",
        "outputId": "df81dfbf-b8c5-402a-9ed6-50a2cc1d2453"
      },
      "execution_count": null,
      "outputs": [
        {
          "output_type": "execute_result",
          "data": {
            "text/plain": [
              "array([[ 0,  1,  2,  3],\n",
              "       [ 4,  5,  6,  7],\n",
              "       [ 8,  9, 10, 11],\n",
              "       [12, 13, 14, 15],\n",
              "       [16, 17, 18, 19],\n",
              "       [20, 21, 22, 23]])"
            ]
          },
          "metadata": {},
          "execution_count": 56
        }
      ]
    },
    {
      "cell_type": "markdown",
      "source": [
        "#### broadcasting"
      ],
      "metadata": {
        "id": "tfFX2gQ1idCn"
      }
    },
    {
      "cell_type": "code",
      "source": [
        "increased_solar=solar_energy*1.1\n",
        "print(\"solar energy incresed by 10%:\",increased_solar)"
      ],
      "metadata": {
        "colab": {
          "base_uri": "https://localhost:8080/"
        },
        "id": "218MYfbQiLuC",
        "outputId": "8fdba725-21c4-4b9b-dbc2-5ed83fb69e51"
      },
      "execution_count": null,
      "outputs": [
        {
          "output_type": "stream",
          "name": "stdout",
          "text": [
            "solar energy incresed by 10%: [110.   33.   55.   42.9]\n"
          ]
        }
      ]
    }
  ]
}