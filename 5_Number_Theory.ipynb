{
  "nbformat": 4,
  "nbformat_minor": 0,
  "metadata": {
    "colab": {
      "provenance": [],
      "authorship_tag": "ABX9TyP3S3mA2HRqCecVR2pTvpl9",
      "include_colab_link": true
    },
    "kernelspec": {
      "name": "python3",
      "display_name": "Python 3"
    },
    "language_info": {
      "name": "python"
    }
  },
  "cells": [
    {
      "cell_type": "markdown",
      "metadata": {
        "id": "view-in-github",
        "colab_type": "text"
      },
      "source": [
        "<a href=\"https://colab.research.google.com/github/PallaviSundar/AIML-Programs/blob/main/5_Number_Theory.ipynb\" target=\"_parent\"><img src=\"https://colab.research.google.com/assets/colab-badge.svg\" alt=\"Open In Colab\"/></a>"
      ]
    },
    {
      "cell_type": "code",
      "execution_count": 1,
      "metadata": {
        "id": "si4fi66VtMdH"
      },
      "outputs": [],
      "source": [
        "import pandas as pd\n",
        "import numpy as np\n",
        "from statistics import mode\n",
        "data = {\n",
        "    \"Marks\": [45,55,56,59,62,66,67,67,72,74,76,77,80,89,90]\n",
        "}\n",
        "df = pd.DataFrame(data)\n",
        "marks = df[\"Marks\"]"
      ]
    },
    {
      "cell_type": "code",
      "source": [
        "mean_val = marks.mean()\n",
        "median_val = marks.median()\n",
        "mode_val = marks.mode()\n",
        "std_dev = marks.std()\n",
        "range_val = marks.max() - marks.min()\n",
        "variance_val = marks.var()\n",
        "\n",
        "print(\"discriptive statistics:\")\n",
        "print(\"mean:\",mean_val)\n",
        "print(\"median:\",median_val)\n",
        "print(\"mode:\",mode_val)\n",
        "print(\"std:\",std_dev)\n",
        "print(\"range:\",range_val)\n",
        "print(\"variance:\",variance_val)"
      ],
      "metadata": {
        "colab": {
          "base_uri": "https://localhost:8080/"
        },
        "id": "nCpuRM4ltjPh",
        "outputId": "0c6826b8-1764-4d3a-d76f-f341b6d8fc2f"
      },
      "execution_count": 2,
      "outputs": [
        {
          "output_type": "stream",
          "name": "stdout",
          "text": [
            "discriptive statistics:\n",
            "mean: 69.0\n",
            "median: 67.0\n",
            "mode: 0    67\n",
            "Name: Marks, dtype: int64\n",
            "std: 12.58116506074514\n",
            "range: 45\n",
            "variance: 158.28571428571428\n"
          ]
        }
      ]
    },
    {
      "cell_type": "code",
      "source": [
        "import numpy as np\n",
        "data = [6,213,241,260,281,290,314,321,327,390,400]\n",
        "data.sort()\n",
        "Q1 = np.percentile(data,25)\n",
        "Q2 = np.median(data)\n",
        "Q3 = np.percentile(data,75)\n",
        "IQR = Q3 - Q1"
      ],
      "metadata": {
        "id": "IJ6qGeIutodG"
      },
      "execution_count": 3,
      "outputs": []
    },
    {
      "cell_type": "code",
      "source": [
        "IQR"
      ],
      "metadata": {
        "colab": {
          "base_uri": "https://localhost:8080/"
        },
        "id": "Yf_ku-yHt69a",
        "outputId": "af57cafe-813e-4bdb-8d0b-221ef0d32f6e"
      },
      "execution_count": 4,
      "outputs": [
        {
          "output_type": "execute_result",
          "data": {
            "text/plain": [
              "np.float64(73.5)"
            ]
          },
          "metadata": {},
          "execution_count": 4
        }
      ]
    },
    {
      "cell_type": "code",
      "source": [
        "Q1"
      ],
      "metadata": {
        "colab": {
          "base_uri": "https://localhost:8080/"
        },
        "id": "sz0GcbAVuAur",
        "outputId": "2f0242cf-f4a4-4586-c078-7b6f099a9e94"
      },
      "execution_count": 5,
      "outputs": [
        {
          "output_type": "execute_result",
          "data": {
            "text/plain": [
              "np.float64(250.5)"
            ]
          },
          "metadata": {},
          "execution_count": 5
        }
      ]
    },
    {
      "cell_type": "code",
      "source": [
        "Q2"
      ],
      "metadata": {
        "colab": {
          "base_uri": "https://localhost:8080/"
        },
        "id": "YagMZskNuDrd",
        "outputId": "e5ce95ff-39b6-4573-d433-63b6a0bf3a47"
      },
      "execution_count": 6,
      "outputs": [
        {
          "output_type": "execute_result",
          "data": {
            "text/plain": [
              "np.float64(290.0)"
            ]
          },
          "metadata": {},
          "execution_count": 6
        }
      ]
    },
    {
      "cell_type": "code",
      "source": [
        "Q3"
      ],
      "metadata": {
        "colab": {
          "base_uri": "https://localhost:8080/"
        },
        "id": "X5aNeNEUuGU9",
        "outputId": "557ba4fe-05b1-445c-e410-b29d9fca4128"
      },
      "execution_count": 7,
      "outputs": [
        {
          "output_type": "execute_result",
          "data": {
            "text/plain": [
              "np.float64(324.0)"
            ]
          },
          "metadata": {},
          "execution_count": 7
        }
      ]
    },
    {
      "cell_type": "code",
      "source": [
        "lower_bound = Q1 - 1.5 * IQR\n",
        "upper_bound = Q3 + 1.5 * IQR\n",
        "\n",
        "print(f\"sorted data:{data}\")\n",
        "print(f\"Q1(25th percentile):{Q1}\")\n",
        "print(f\"Q2(median):{Q2}\")\n",
        "print(f\"Q3(75th percentile):{Q3}\")\n",
        "print(f\"IQR(Q3-Q1):{IQR}\")\n",
        "print(f\"lower_bound:{lower_bound}\")\n",
        "print(f\"upper_bound:{upper_bound}\")"
      ],
      "metadata": {
        "colab": {
          "base_uri": "https://localhost:8080/"
        },
        "id": "-MPO5hNQuImR",
        "outputId": "15ef02de-aab6-4985-f4f7-57385e3baa9b"
      },
      "execution_count": 8,
      "outputs": [
        {
          "output_type": "stream",
          "name": "stdout",
          "text": [
            "sorted data:[6, 213, 241, 260, 281, 290, 314, 321, 327, 390, 400]\n",
            "Q1(25th percentile):250.5\n",
            "Q2(median):290.0\n",
            "Q3(75th percentile):324.0\n",
            "IQR(Q3-Q1):73.5\n",
            "lower_bound:140.25\n",
            "upper_bound:434.25\n"
          ]
        }
      ]
    }
  ]
}