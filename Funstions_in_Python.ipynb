{
  "nbformat": 4,
  "nbformat_minor": 0,
  "metadata": {
    "colab": {
      "provenance": [],
      "authorship_tag": "ABX9TyOJ7IIP0fem5wrEpIfJcFF1",
      "include_colab_link": true
    },
    "kernelspec": {
      "name": "python3",
      "display_name": "Python 3"
    },
    "language_info": {
      "name": "python"
    }
  },
  "cells": [
    {
      "cell_type": "markdown",
      "metadata": {
        "id": "view-in-github",
        "colab_type": "text"
      },
      "source": [
        "<a href=\"https://colab.research.google.com/github/PallaviSundar/AIML-Programs/blob/main/Funstions_in_Python.ipynb\" target=\"_parent\"><img src=\"https://colab.research.google.com/assets/colab-badge.svg\" alt=\"Open In Colab\"/></a>"
      ]
    },
    {
      "cell_type": "code",
      "execution_count": null,
      "metadata": {
        "id": "5L6P1_e_ZHgB"
      },
      "outputs": [],
      "source": [
        "def function"
      ]
    },
    {
      "cell_type": "markdown",
      "source": [
        "## types of function in python\n",
        "1.build in function\n",
        "2.user defined function\n",
        "3.lambda function"
      ],
      "metadata": {
        "id": "VSe6c8prZbdQ"
      }
    },
    {
      "cell_type": "markdown",
      "source": [
        "## 1.built in function"
      ],
      "metadata": {
        "id": "xyJzYtS-Zg2z"
      }
    },
    {
      "cell_type": "markdown",
      "source": [
        "#### ex 1"
      ],
      "metadata": {
        "id": "8fVU3g6PZiNF"
      }
    },
    {
      "cell_type": "code",
      "source": [
        "message = \"python\"\n",
        "print(\"message is:\",message)\n",
        "print(\" length of message is:\",len(message))\n",
        "print(\"type of message is:\",type(message))"
      ],
      "metadata": {
        "colab": {
          "base_uri": "https://localhost:8080/"
        },
        "id": "_FT9nIfCZchj",
        "outputId": "c2e00630-47dc-4035-8057-220e4eb3ef6c"
      },
      "execution_count": 1,
      "outputs": [
        {
          "output_type": "stream",
          "name": "stdout",
          "text": [
            "message is: python\n",
            " length of message is: 6\n",
            "type of message is: <class 'str'>\n"
          ]
        }
      ]
    },
    {
      "cell_type": "markdown",
      "source": [
        "#### ex 2 max(),min(),sum()"
      ],
      "metadata": {
        "id": "9OgalOk4Z7IR"
      }
    },
    {
      "cell_type": "code",
      "source": [
        "numbers = [10,20,5,8]\n",
        "print(\"Maximum:\",max(numbers))\n",
        "print(\"Minimum:\",min(numbers))\n",
        "print(\"Sum:\",sum(numbers))"
      ],
      "metadata": {
        "colab": {
          "base_uri": "https://localhost:8080/"
        },
        "id": "SF82_0YQZ8aE",
        "outputId": "53519350-f778-4a15-fe82-404669e4596e"
      },
      "execution_count": 2,
      "outputs": [
        {
          "output_type": "stream",
          "name": "stdout",
          "text": [
            "Maximum: 20\n",
            "Minimum: 5\n",
            "Sum: 43\n"
          ]
        }
      ]
    },
    {
      "cell_type": "markdown",
      "source": [
        "#### ex 3 float(),abs(),round()"
      ],
      "metadata": {
        "id": "9S9Bg2-KaAtQ"
      }
    },
    {
      "cell_type": "code",
      "source": [
        "value=float(input(\"eneter no\"))\n",
        "print(\"absolute value\",abs(value))\n",
        "print(\"round val\",round(value,2))"
      ],
      "metadata": {
        "colab": {
          "base_uri": "https://localhost:8080/"
        },
        "id": "du6JWdFuaFDa",
        "outputId": "75b931e5-9e51-4733-bbd4-ea303c1e7887"
      },
      "execution_count": 3,
      "outputs": [
        {
          "output_type": "stream",
          "name": "stdout",
          "text": [
            "eneter no7.90\n",
            "absolute value 7.9\n",
            "round val 7.9\n"
          ]
        }
      ]
    },
    {
      "cell_type": "markdown",
      "source": [
        "## 2.user defined function"
      ],
      "metadata": {
        "id": "D9bUrxKMaai1"
      }
    },
    {
      "cell_type": "code",
      "source": [
        "def add(a,b):\n",
        "    return a+b\n",
        "result = add (3,5)\n",
        "print(\"result:\",result)"
      ],
      "metadata": {
        "colab": {
          "base_uri": "https://localhost:8080/"
        },
        "id": "9dO-DREgabs4",
        "outputId": "8b6d4ea9-8cd3-486e-ac06-0682b602ab38"
      },
      "execution_count": 4,
      "outputs": [
        {
          "output_type": "stream",
          "name": "stdout",
          "text": [
            "result: 8\n"
          ]
        }
      ]
    },
    {
      "cell_type": "markdown",
      "source": [
        "#### checking even or odd"
      ],
      "metadata": {
        "id": "n9FmreeBaiBQ"
      }
    },
    {
      "cell_type": "code",
      "source": [
        "def check_even_odd(num):\n",
        "  if num % 2 == 0:\n",
        "    return \"even\"\n",
        "  else:\n",
        "    return \"odd\"\n",
        "result = check_even_odd(11)\n",
        "print(\"result:\",result)"
      ],
      "metadata": {
        "colab": {
          "base_uri": "https://localhost:8080/"
        },
        "id": "YBMYLSrbaleS",
        "outputId": "cd19f15b-d4b9-405d-aa97-a256a9d72481"
      },
      "execution_count": 5,
      "outputs": [
        {
          "output_type": "stream",
          "name": "stdout",
          "text": [
            "result: odd\n"
          ]
        }
      ]
    },
    {
      "cell_type": "markdown",
      "source": [
        "## 3.Lambda functuons\n",
        "a lambda functions are anonymous functions written in one line using the lambda lkeyword.they are used for short and simple operations"
      ],
      "metadata": {
        "id": "6DhuQoPNasqK"
      }
    },
    {
      "cell_type": "markdown",
      "source": [
        "#### syntax"
      ],
      "metadata": {
        "id": "CqV33zyaauKx"
      }
    },
    {
      "cell_type": "code",
      "source": [
        "lambda arguments:expression"
      ],
      "metadata": {
        "id": "M2PMvdklax40"
      },
      "execution_count": null,
      "outputs": []
    },
    {
      "cell_type": "markdown",
      "source": [
        "### ex 1 square of a number"
      ],
      "metadata": {
        "id": "zcUHBdffa163"
      }
    },
    {
      "cell_type": "code",
      "source": [
        "square = lambda x:x*x\n",
        "print(\"square of 4 is:\",square(4))"
      ],
      "metadata": {
        "colab": {
          "base_uri": "https://localhost:8080/"
        },
        "id": "dE3ndjyEa53F",
        "outputId": "f4569054-b512-4cd4-b5bb-ca64cbb0fb43"
      },
      "execution_count": 6,
      "outputs": [
        {
          "output_type": "stream",
          "name": "stdout",
          "text": [
            "square of 4 is: 16\n"
          ]
        }
      ]
    },
    {
      "cell_type": "code",
      "source": [
        "square = lambda x,y:x+y\n",
        "print(\"sum of:\",add (20,30))"
      ],
      "metadata": {
        "colab": {
          "base_uri": "https://localhost:8080/"
        },
        "id": "JHcgIMesa-fR",
        "outputId": "c147f411-d610-4d4a-e0b2-6b309f0a20fb"
      },
      "execution_count": 7,
      "outputs": [
        {
          "output_type": "stream",
          "name": "stdout",
          "text": [
            "sum of: 50\n"
          ]
        }
      ]
    },
    {
      "cell_type": "markdown",
      "source": [
        "### ex 2 map()"
      ],
      "metadata": {
        "id": "mwL25cDcbD6T"
      }
    },
    {
      "cell_type": "code",
      "source": [
        "number = [1,2,3,4]\n",
        "squared=list(map(lambda x:x**2,number))\n",
        "print(\"squared list:\",squared)"
      ],
      "metadata": {
        "colab": {
          "base_uri": "https://localhost:8080/"
        },
        "id": "mju-xTiPbG2I",
        "outputId": "5cea06b8-0cff-4f1c-a747-197a95b73bf3"
      },
      "execution_count": 8,
      "outputs": [
        {
          "output_type": "stream",
          "name": "stdout",
          "text": [
            "squared list: [1, 4, 9, 16]\n"
          ]
        }
      ]
    }
  ]
}