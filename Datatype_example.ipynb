{
  "nbformat": 4,
  "nbformat_minor": 0,
  "metadata": {
    "colab": {
      "provenance": [],
      "authorship_tag": "ABX9TyNGJ33jInjl3GtRyZmB+LMC",
      "include_colab_link": true
    },
    "kernelspec": {
      "name": "python3",
      "display_name": "Python 3"
    },
    "language_info": {
      "name": "python"
    }
  },
  "cells": [
    {
      "cell_type": "markdown",
      "metadata": {
        "id": "view-in-github",
        "colab_type": "text"
      },
      "source": [
        "<a href=\"https://colab.research.google.com/github/PallaviSundar/AIML-Programs/blob/main/Datatype_example.ipynb\" target=\"_parent\"><img src=\"https://colab.research.google.com/assets/colab-badge.svg\" alt=\"Open In Colab\"/></a>"
      ]
    },
    {
      "cell_type": "markdown",
      "source": [
        "## Dictionary"
      ],
      "metadata": {
        "id": "C7m-7aozFELT"
      }
    },
    {
      "cell_type": "code",
      "metadata": {
        "colab": {
          "base_uri": "https://localhost:8080/"
        },
        "id": "43e0ebfe",
        "outputId": "faac659b-609d-4478-f833-f464afc85076"
      },
      "source": [
        "my_dict = {'apple': 1, 'banana': 2, 'cherry': 3}\n",
        "print(\"Initial dictionary:\", my_dict)\n",
        "\n",
        "print(\"Value for 'banana':\", my_dict['banana'])\n",
        "\n",
        "my_dict['date'] = 4\n",
        "print(\"After adding 'date':\", my_dict)\n",
        "\n",
        "my_dict['apple'] = 10\n",
        "print(\"After modifying 'apple':\", my_dict)\n",
        "\n",
        "del my_dict['cherry']\n",
        "print(\"After deleting 'cherry':\", my_dict)\n",
        "\n",
        "print(\"Keys:\", my_dict.keys())\n",
        "print(\"Values:\", my_dict.values())\n",
        "print(\"Items:\", my_dict.items())\n",
        "\n",
        "print(\"Iterating through the dictionary:\")\n",
        "for key, value in my_dict.items():\n",
        "    print(f\"Key: {key}, Value: {value}\")\n",
        "\n",
        "print(\"'banana' in my_dict:\", 'banana' in my_dict)\n",
        "print(\"'grape' in my_dict:\", 'grape' in my_dict)\n",
        "\n",
        "print(\"Get 'date' with default:\", my_dict.get('date', 0))\n",
        "print(\"Get 'fig' with default:\", my_dict.get('fig', 0))\n",
        "\n",
        "popped_value = my_dict.pop('date')\n",
        "print(\"Popped value:\", popped_value)\n",
        "print(\"After popping 'date':\", my_dict)\n",
        "\n",
        "my_dict.clear()\n",
        "print(\"After clearing:\", my_dict)"
      ],
      "execution_count": 3,
      "outputs": [
        {
          "output_type": "stream",
          "name": "stdout",
          "text": [
            "Initial dictionary: {'apple': 1, 'banana': 2, 'cherry': 3}\n",
            "Value for 'banana': 2\n",
            "After adding 'date': {'apple': 1, 'banana': 2, 'cherry': 3, 'date': 4}\n",
            "After modifying 'apple': {'apple': 10, 'banana': 2, 'cherry': 3, 'date': 4}\n",
            "After deleting 'cherry': {'apple': 10, 'banana': 2, 'date': 4}\n",
            "Keys: dict_keys(['apple', 'banana', 'date'])\n",
            "Values: dict_values([10, 2, 4])\n",
            "Items: dict_items([('apple', 10), ('banana', 2), ('date', 4)])\n",
            "Iterating through the dictionary:\n",
            "Key: apple, Value: 10\n",
            "Key: banana, Value: 2\n",
            "Key: date, Value: 4\n",
            "'banana' in my_dict: True\n",
            "'grape' in my_dict: False\n",
            "Get 'date' with default: 4\n",
            "Get 'fig' with default: 0\n",
            "Popped value: 4\n",
            "After popping 'date': {'apple': 10, 'banana': 2}\n",
            "After clearing: {}\n"
          ]
        }
      ]
    },
    {
      "cell_type": "code",
      "source": [
        "my_dict = {'apple': 1, 'banana': 2, 'cherry': 3}\n",
        "print(\"Dictionary:\",d,type(d))"
      ],
      "metadata": {
        "colab": {
          "base_uri": "https://localhost:8080/"
        },
        "id": "B2XPr_Pqjt-F",
        "outputId": "969e5f70-5b58-4fdf-998e-26a6f79c9bdc"
      },
      "execution_count": 31,
      "outputs": [
        {
          "output_type": "stream",
          "name": "stdout",
          "text": [
            "Dictionary: {'name': 'Alice', 'age': 25} <class 'dict'>\n"
          ]
        }
      ]
    },
    {
      "cell_type": "markdown",
      "source": [
        "## Tuple"
      ],
      "metadata": {
        "id": "9luobDIjFaYB"
      }
    },
    {
      "cell_type": "code",
      "source": [
        "my_tuple = (1, 2, 3, 'apple', 'banana')\n",
        "\n",
        "print(\"First element:\", my_tuple[0])\n",
        "print(\"Last element:\", my_tuple[-1])\n",
        "\n",
        "print(\"Sliced tuple:\", my_tuple[2:4])\n",
        "\n",
        "print(\"Iterating through the tuple:\")\n",
        "for item in my_tuple:\n",
        "    print(item)\n",
        "\n",
        "another_tuple = ('cherry', 'date')\n",
        "combined_tuple = my_tuple + another_tuple\n",
        "print(\"Combined tuple:\", combined_tuple)\n",
        "\n",
        "print(\"Length of the tuple:\", len(my_tuple))\n",
        "\n",
        "print(\"'apple' in my_tuple:\", 'apple' in my_tuple)\n",
        "print(\"'grape' in my_tuple:\", 'grape' in my_tuple)"
      ],
      "metadata": {
        "colab": {
          "base_uri": "https://localhost:8080/"
        },
        "id": "PGcxkkrDDNlQ",
        "outputId": "8a643d99-7104-4e07-8610-908e59aa026f"
      },
      "execution_count": 4,
      "outputs": [
        {
          "output_type": "stream",
          "name": "stdout",
          "text": [
            "First element: 1\n",
            "Last element: banana\n",
            "Sliced tuple: (3, 'apple')\n",
            "Iterating through the tuple:\n",
            "1\n",
            "2\n",
            "3\n",
            "apple\n",
            "banana\n",
            "Combined tuple: (1, 2, 3, 'apple', 'banana', 'cherry', 'date')\n",
            "Length of the tuple: 5\n",
            "'apple' in my_tuple: True\n",
            "'grape' in my_tuple: False\n"
          ]
        }
      ]
    },
    {
      "cell_type": "code",
      "source": [
        "my_tuple = (1, 2, 3, 'apple', 'banana')\n",
        "print(\"Tuple:\", my_tuple, type(my_tuple))"
      ],
      "metadata": {
        "colab": {
          "base_uri": "https://localhost:8080/"
        },
        "id": "AdZ-6A_Hj9eM",
        "outputId": "875100bd-d5d5-485c-a3c6-9af8b8e9b710"
      },
      "execution_count": 32,
      "outputs": [
        {
          "output_type": "stream",
          "name": "stdout",
          "text": [
            "Tuple: (1, 2, 3, 'apple', 'banana') <class 'tuple'>\n"
          ]
        }
      ]
    },
    {
      "cell_type": "markdown",
      "source": [
        "## List"
      ],
      "metadata": {
        "id": "33WDLuzJFQO2"
      }
    },
    {
      "cell_type": "code",
      "source": [
        "my_list = [\"apple\", \"banana\", \"cherry\", \"date\"]\n",
        "\n",
        "print(\"First element:\", my_list[0])\n",
        "print(\"Last element:\", my_list[-1])\n",
        "print(\"Elements from index 1 to 3:\", my_list[1:4])\n",
        "\n",
        "\n",
        "my_list[1] = \"blueberry\"\n",
        "print(\"List after changing element:\", my_list)\n",
        "\n",
        "\n",
        "my_list.append(\"elderberry\")\n",
        "my_list.insert(1, \"apricot\")\n",
        "print(\"List after adding elements:\", my_list)\n",
        "\n",
        "\n",
        "my_list.remove(\"cherry\")\n",
        "popped_item = my_list.pop(2)\n",
        "del my_list[0]\n",
        "print(\"List after removing elements:\", my_list)\n",
        "print(\"Popped item:\", popped_item)\n",
        "\n",
        "print(\"Length of the list:\", len(my_list))\n",
        "\n",
        "\n",
        "if \"blueberry\" in my_list:\n",
        "  print(\"Blueberry is in the list.\")\n",
        "\n",
        "\n",
        "my_list.sort()\n",
        "print(\"Sorted list:\", my_list)\n",
        "\n",
        "\n",
        "another_list = [3, 1, 4, 1, 5, 9, 2]\n",
        "sorted_another_list = sorted(another_list)\n",
        "print(\"Original list:\", another_list)\n",
        "print(\"Sorted copy:\", sorted_another_list)\n",
        "\n",
        "\n",
        "my_list.reverse()\n",
        "print(\"Reversed list:\", my_list)"
      ],
      "metadata": {
        "colab": {
          "base_uri": "https://localhost:8080/"
        },
        "id": "hVvJ3KA1EEzt",
        "outputId": "c47f278c-cc01-4a4c-c2cd-4eff58bf89dd"
      },
      "execution_count": 8,
      "outputs": [
        {
          "output_type": "stream",
          "name": "stdout",
          "text": [
            "First element: apple\n",
            "Last element: date\n",
            "Elements from index 1 to 3: ['banana', 'cherry', 'date']\n",
            "List after changing element: ['apple', 'blueberry', 'cherry', 'date']\n",
            "List after adding elements: ['apple', 'apricot', 'blueberry', 'cherry', 'date', 'elderberry']\n",
            "List after removing elements: ['apricot', 'date', 'elderberry']\n",
            "Popped item: blueberry\n",
            "Length of the list: 3\n",
            "Sorted list: ['apricot', 'date', 'elderberry']\n",
            "Original list: [3, 1, 4, 1, 5, 9, 2]\n",
            "Sorted copy: [1, 1, 2, 3, 4, 5, 9]\n",
            "Reversed list: ['elderberry', 'date', 'apricot']\n"
          ]
        }
      ]
    },
    {
      "cell_type": "markdown",
      "source": [
        "## Set"
      ],
      "metadata": {
        "id": "edxvSt7xFLx9"
      }
    },
    {
      "cell_type": "code",
      "metadata": {
        "colab": {
          "base_uri": "https://localhost:8080/"
        },
        "id": "e36ecc3a",
        "outputId": "6197808e-2211-4737-dbd9-337eaa42305d"
      },
      "source": [
        "my_set = {\"apple\", \"banana\", \"cherry\"}\n",
        "print(\"Initial set:\", my_set)\n",
        "\n",
        "my_set.add(\"date\")\n",
        "print(\"After adding 'date':\", my_set)\n",
        "\n",
        "my_set.update([\"elderberry\", \"fig\"])\n",
        "print(\"After adding multiple elements:\", my_set)\n",
        "\n",
        "my_set.remove(\"banana\")\n",
        "print(\"After removing 'banana':\", my_set)\n",
        "\n",
        "my_set.discard(\"grape\")\n",
        "print(\"After discarding 'grape':\", my_set)\n",
        "\n",
        "popped_item = my_set.pop()\n",
        "print(\"Popped item:\", popped_item)\n",
        "print(\"After popping:\", my_set)\n",
        "\n",
        "set1 = {1, 2, 3, 4, 5}\n",
        "set2 = {4, 5, 6, 7, 8}\n",
        "\n",
        "union_set = set1.union(set2)\n",
        "print(\"Union of set1 and set2:\", union_set)\n",
        "\n",
        "intersection_set = set1.intersection(set2)\n",
        "print(\"Intersection of set1 and set2:\", intersection_set)\n",
        "\n",
        "difference_set1 = set1.difference(set2)\n",
        "print(\"Difference of set1 and set2 (set1 - set2):\", difference_set1)\n",
        "\n",
        "difference_set2 = set2.difference(set1)\n",
        "print(\"Difference of set2 and set1 (set2 - set1):\", difference_set2)\n",
        "\n",
        "symmetric_difference_set = set1.symmetric_difference(set2)\n",
        "print(\"Symmetric difference of set1 and set2:\", symmetric_difference_set)\n",
        "\n",
        "subset_check = {1, 2}.issubset(set1)\n",
        "print(\"{1, 2} is a subset of set1:\", subset_check)\n",
        "\n",
        "superset_check = set1.issuperset({1, 2})\n",
        "print(\"set1 is a superset of {1, 2}:\", superset_check)\n",
        "\n",
        "print(\"Length of my_set:\", len(my_set))\n",
        "\n",
        "print(\"'cherry' in my_set:\", 'cherry' in my_set)\n",
        "print(\"'banana' in my_set:\", 'banana' in my_set)\n",
        "\n",
        "my_set.clear()\n",
        "print(\"After clearing my_set:\", my_set)"
      ],
      "execution_count": 7,
      "outputs": [
        {
          "output_type": "stream",
          "name": "stdout",
          "text": [
            "Initial set: {'apple', 'banana', 'cherry'}\n",
            "After adding 'date': {'apple', 'banana', 'cherry', 'date'}\n",
            "After adding multiple elements: {'elderberry', 'fig', 'banana', 'cherry', 'apple', 'date'}\n",
            "After removing 'banana': {'elderberry', 'fig', 'cherry', 'apple', 'date'}\n",
            "After discarding 'grape': {'elderberry', 'fig', 'cherry', 'apple', 'date'}\n",
            "Popped item: elderberry\n",
            "After popping: {'fig', 'cherry', 'apple', 'date'}\n",
            "Union of set1 and set2: {1, 2, 3, 4, 5, 6, 7, 8}\n",
            "Intersection of set1 and set2: {4, 5}\n",
            "Difference of set1 and set2 (set1 - set2): {1, 2, 3}\n",
            "Difference of set2 and set1 (set2 - set1): {8, 6, 7}\n",
            "Symmetric difference of set1 and set2: {1, 2, 3, 6, 7, 8}\n",
            "{1, 2} is a subset of set1: True\n",
            "set1 is a superset of {1, 2}: True\n",
            "Length of my_set: 4\n",
            "'cherry' in my_set: True\n",
            "'banana' in my_set: False\n",
            "After clearing my_set: set()\n"
          ]
        }
      ]
    },
    {
      "cell_type": "markdown",
      "source": [
        "## Dictionary real world example"
      ],
      "metadata": {
        "id": "gvzLNJP2Gd1h"
      }
    },
    {
      "cell_type": "code",
      "source": [
        "book = {\n",
        "    \"title\": \"Romeo And Juliet\",\n",
        "    \"author\": \"William Shakespere\",\n",
        "    \"year_published\": 1597,\n",
        "    \"genre\": \"Tragedy\",\n",
        "    \"ISBN\": \"978-0345391803\"\n",
        "}\n",
        "print(\"Book Title:\", book[\"title\"])\n",
        "print(\"Author:\", book[\"author\"])\n",
        "\n",
        "\n",
        "book[\"year_published\"] = 2005\n",
        "\n",
        "book[\"publisher\"] = \"Random House\"\n",
        "\n",
        "print(\"\\nUpdated book information:\")\n",
        "print(book)"
      ],
      "metadata": {
        "colab": {
          "base_uri": "https://localhost:8080/"
        },
        "id": "3EP-FQUHFeOI",
        "outputId": "da396e51-8943-47e9-94b2-2f8452a4515f"
      },
      "execution_count": 10,
      "outputs": [
        {
          "output_type": "stream",
          "name": "stdout",
          "text": [
            "Book Title: Romeo And Juliet\n",
            "Author: William Shakespere\n",
            "\n",
            "Updated book information:\n",
            "{'title': 'Romeo And Juliet', 'author': 'William Shakespere', 'year_published': 2005, 'genre': 'Tragedy', 'ISBN': '978-0345391803', 'publisher': 'Random House'}\n"
          ]
        }
      ]
    },
    {
      "cell_type": "code",
      "metadata": {
        "colab": {
          "base_uri": "https://localhost:8080/"
        },
        "id": "41be85b9",
        "outputId": "0f497770-c0a7-4fb8-a771-05215825d950"
      },
      "source": [
        "book = {\n",
        "    \"title\": \"Romeo And Juliet\",\n",
        "    \"author\": \"William Shakespere\",\n",
        "    \"year_published\": 1597,\n",
        "    \"genre\": \"Tragedy\",\n",
        "    \"ISBN\": \"978-0345391803\"\n",
        "}\n",
        "\n",
        "print(\"Book Title:\", book[\"title\"])\n",
        "print(\"Author:\", book[\"author\"])\n",
        "\n",
        "book[\"year_published\"] = 2005\n",
        "\n",
        "book[\"publisher\"] = \"Random House\"\n",
        "\n",
        "print(\"\\nUpdated book information:\")\n",
        "print(book)\n",
        "\n",
        "print(\"\\nBook details:\")\n",
        "for key, value in book.items():\n",
        "    print(f\"{key.replace('_', ' ').title()}: {value}\")"
      ],
      "execution_count": 9,
      "outputs": [
        {
          "output_type": "stream",
          "name": "stdout",
          "text": [
            "Book Title: Romeo And Juliet\n",
            "Author: William Shakespere\n",
            "\n",
            "Updated book information:\n",
            "{'title': 'Romeo And Juliet', 'author': 'William Shakespere', 'year_published': 2005, 'genre': 'Tragedy', 'ISBN': '978-0345391803', 'publisher': 'Random House'}\n",
            "\n",
            "Book details:\n",
            "Title: Romeo And Juliet\n",
            "Author: William Shakespere\n",
            "Year Published: 2005\n",
            "Genre: Tragedy\n",
            "Isbn: 978-0345391803\n",
            "Publisher: Random House\n"
          ]
        }
      ]
    },
    {
      "cell_type": "markdown",
      "source": [
        "## Set real world Example"
      ],
      "metadata": {
        "id": "p5XuTof8GjW8"
      }
    },
    {
      "cell_type": "code",
      "source": [
        "friend1_hobbies = {\"reading\", \"cricket\", \"music\", \"travelling\"}\n",
        "friend2_hobbies = {\"painting\", \"music\", \"travelling\", \"coding\"}\n",
        "\n",
        "common_hobbies = friend1_hobbies & friend2_hobbies\n",
        "\n",
        "all_hobbies = friend1_hobbies | friend2_hobbies\n",
        "\n",
        "only_friend1 = friend1_hobbies - friend2_hobbies\n",
        "\n",
        "only_friend2 = friend2_hobbies - friend1_hobbies\n",
        "\n",
        "print(\"Friend 1 hobbies:\", friend1_hobbies)\n",
        "print(\"Friend 2 hobbies:\", friend2_hobbies)\n",
        "print(\"Common hobbies:\", common_hobbies)\n",
        "print(\"All hobbies:\", all_hobbies)\n",
        "print(\"Only Friend 1's hobbies:\", only_friend1)\n",
        "print(\"Only Friend 2's hobbies:\", only_friend2)\n"
      ],
      "metadata": {
        "colab": {
          "base_uri": "https://localhost:8080/"
        },
        "id": "3fCKaIrQHDwz",
        "outputId": "4b71a7da-ea34-4358-f720-632198d7ccd3"
      },
      "execution_count": 11,
      "outputs": [
        {
          "output_type": "stream",
          "name": "stdout",
          "text": [
            "Friend 1 hobbies: {'music', 'cricket', 'reading', 'travelling'}\n",
            "Friend 2 hobbies: {'painting', 'coding', 'travelling', 'music'}\n",
            "Common hobbies: {'music', 'travelling'}\n",
            "All hobbies: {'painting', 'music', 'travelling', 'coding', 'reading', 'cricket'}\n",
            "Only Friend 1's hobbies: {'cricket', 'reading'}\n",
            "Only Friend 2's hobbies: {'painting', 'coding'}\n"
          ]
        }
      ]
    },
    {
      "cell_type": "markdown",
      "source": [
        "## List real world example"
      ],
      "metadata": {
        "id": "GBidqX_JIHOB"
      }
    },
    {
      "cell_type": "code",
      "source": [
        "shopping_list = [\"milk\", \"bread\", \"eggs\", \"butter\"]\n",
        "\n",
        "print(\"Original shopping list:\", shopping_list)\n",
        "\n",
        "shopping_list.append(\"fruits\")\n",
        "shopping_list.append(\"vegetables\")\n",
        "print(\"After adding items:\", shopping_list)\n",
        "\n",
        "shopping_list.remove(\"milk\")\n",
        "print(\"After buying milk:\", shopping_list)\n",
        "\n",
        "shopping_list.insert(1, \"cheese\")\n",
        "print(\"After inserting cheese:\", shopping_list)\n",
        "\n",
        "shopping_list.sort()\n",
        "print(\"Sorted shopping list:\", shopping_list)\n",
        "\n",
        "shopping_list.reverse()\n",
        "print(\"Reversed shopping list:\", shopping_list)\n"
      ],
      "metadata": {
        "colab": {
          "base_uri": "https://localhost:8080/"
        },
        "id": "qIwOuCQ3HM9l",
        "outputId": "dc999690-43b2-49b0-9308-3ab9f236e76f"
      },
      "execution_count": 12,
      "outputs": [
        {
          "output_type": "stream",
          "name": "stdout",
          "text": [
            "Original shopping list: ['milk', 'bread', 'eggs', 'butter']\n",
            "After adding items: ['milk', 'bread', 'eggs', 'butter', 'fruits', 'vegetables']\n",
            "After buying milk: ['bread', 'eggs', 'butter', 'fruits', 'vegetables']\n",
            "After inserting cheese: ['bread', 'cheese', 'eggs', 'butter', 'fruits', 'vegetables']\n",
            "Sorted shopping list: ['bread', 'butter', 'cheese', 'eggs', 'fruits', 'vegetables']\n",
            "Reversed shopping list: ['vegetables', 'fruits', 'eggs', 'cheese', 'butter', 'bread']\n"
          ]
        }
      ]
    },
    {
      "cell_type": "markdown",
      "source": [
        "## Tuple real world example"
      ],
      "metadata": {
        "id": "aVssJokLINVI"
      }
    },
    {
      "cell_type": "code",
      "source": [
        "student = (\"PallaviSundar\", 20, \"CSE\", \"RL Jalappa Institute\")\n",
        "\n",
        "print(\"Student Name:\", student[0])\n",
        "print(\"Age:\", student[1])\n",
        "print(\"Branch:\", student[2])\n",
        "print(\"College:\", student[3])\n",
        "\n",
        "name, age, branch, college = student\n",
        "print(f\"\\n{name} is {age} years old, studying {branch} at {college}.\")\n"
      ],
      "metadata": {
        "colab": {
          "base_uri": "https://localhost:8080/"
        },
        "id": "ezYeNujvHgqL",
        "outputId": "3e80c496-396e-423c-f3da-69d890f8dfbc"
      },
      "execution_count": 13,
      "outputs": [
        {
          "output_type": "stream",
          "name": "stdout",
          "text": [
            "Student Name: PallaviSundar\n",
            "Age: 20\n",
            "Branch: CSE\n",
            "College: RL Jalappa Institute\n",
            "\n",
            "PallaviSundar is 20 years old, studying CSE at RL Jalappa Institute.\n"
          ]
        }
      ]
    },
    {
      "cell_type": "markdown",
      "source": [
        "## Nested if example"
      ],
      "metadata": {
        "id": "_kUF3d3yIS_o"
      }
    },
    {
      "cell_type": "code",
      "source": [
        "age = int(input(\"Enter your age: \"))\n",
        "has_id = input(\"Do you have a valid ID? (yes/no): \").lower()\n",
        "is_student = input(\"Are you a student? (yes/no): \").lower()\n",
        "\n",
        "if age >= 18:\n",
        "    if has_id == \"yes\":\n",
        "        print(\"You are an adult and have ID.\")\n",
        "\n",
        "        if age < 25 and is_student == \"yes\":\n",
        "            print(\"You qualify for student discount.\")\n",
        "\n",
        "        elif age >= 60 or is_student == \"yes\":\n",
        "            print(\"You qualify for a special offer.\")\n",
        "\n",
        "        elif not (is_student == \"yes\"):\n",
        "            print(\"You are not a student, normal entry.\")\n",
        "\n",
        "        else:\n",
        "            print(\"Normal adult entry allowed.\")\n",
        "    else:\n",
        "        print(\"You need an ID to enter.\")\n",
        "else:\n",
        "    print(\"You are under 18, entry not allowed.\")\n"
      ],
      "metadata": {
        "colab": {
          "base_uri": "https://localhost:8080/"
        },
        "id": "9qzCk5dKIkr4",
        "outputId": "7186e090-d69f-4aec-b84b-48dbb6dd8b19"
      },
      "execution_count": 15,
      "outputs": [
        {
          "output_type": "stream",
          "name": "stdout",
          "text": [
            "Enter your age: 70\n",
            "Do you have a valid ID? (yes/no): yes\n",
            "Are you a student? (yes/no): no\n",
            "You are an adult and have ID.\n",
            "You qualify for a special offer.\n"
          ]
        }
      ]
    },
    {
      "cell_type": "markdown",
      "source": [
        "###1.)Imagine you are building a shopping cart system.Create a dictionary where keys are item names and values are prices.Ask the user to add 3 items to the cart.Print the total bill.\n",
        "List\n",
        "\n",
        "You are given a list of integers. Write a program to find:\n",
        "####1.All pairs of numbers whose sum is equal to a target value.\n",
        "Example: nums = [2, 4, 3, 7, 5], target = 7 → Pairs: (2,5), (4,3).\n",
        "####2.Write a program to rotate a list by k positions.\n",
        "Example: [1,2,3,4,5], k=2 → [4,5,1,2,3].\n",
        "####3.Given a list of names, remove all names that start with a vowel.\n",
        "\n",
        "Tuple\n",
        "\n",
        "You have a list of tuples representing students:\n",
        "students = [(\"Alice\", 85), (\"Bob\", 92), (\"Charlie\", 78)]\n",
        "####1.Find the student with the highest score.\n",
        "####2.Sort the list of tuples by score (descending).\n",
        "####3.Write a program to find all possible pairs of elements from two tuples.\n",
        "Example: (1,2), (3,4) → [(1,3),(1,4),(2,3),(2,4)].\n",
        "Given a tuple of numbers, check if it is strictly increasing.\n",
        "\n",
        "Set\n",
        "\n",
        "You are given two sets of students: one for Cricket and one for Football.\n",
        "####1.Find students who play both games.\n",
        "####2.Find students who play only Cricket.\n",
        "####3.Find students who play either Cricket or Football but not both.\n",
        "####4.Write a program to check if two lists are disjoint (no common elements) using sets.\n",
        "####5.Given a string, find all unique vowels present in it using a set.\n",
        "\n",
        "\n",
        "Dictionary\n",
        "\n",
        "A company stores employee details in a dictionary:\n",
        "employees = {\"John\": 50000, \"Alice\": 60000, \"Bob\": 45000}\n",
        "####1.Find the employee with the maximum salary.\n",
        "####2.Increase salary of all employees by 10%.\n",
        "####3.Write a program to group words by their length using a dictionary.\n",
        "Example: [\"apple\",\"bat\",\"car\",\"elephant\"] → {3: [\"bat\",\"car\"], 5:[\"apple\"], 8:[\"elephant\"]}\n",
        "####4.Create a dictionary from a string where the key is each unique word and value is the number of times it appears.\n",
        "Example: \"the cat and the dog\" → {'the':2,'cat':1,'and':1,'dog':1}"
      ],
      "metadata": {
        "id": "NFTDwTCjLc_t"
      }
    },
    {
      "cell_type": "markdown",
      "source": [
        "##Shopping Cart (Dictionary Example)"
      ],
      "metadata": {
        "id": "rY1AgTLuXnBt"
      }
    },
    {
      "cell_type": "code",
      "source": [
        "items = {\"apple\": 50, \"banana\": 20, \"milk\": 40, \"bread\": 30, \"chocolate\": 60}\n",
        "cart = []\n",
        "\n",
        "print(\"Available items:\", items)\n",
        "\n",
        "for i in range(3):\n",
        "    item = input(f\"Enter item {i+1}: \").lower()\n",
        "    if item in items:\n",
        "        cart.append(items[item])\n",
        "    else:\n",
        "        print(\"Item not available!\")\n",
        "\n",
        "print(\"Total Bill = $\", sum(cart))"
      ],
      "metadata": {
        "colab": {
          "base_uri": "https://localhost:8080/"
        },
        "id": "gsvApzqLKHYi",
        "outputId": "fe95719a-b7d4-46ef-f0c2-c1340d71d852"
      },
      "execution_count": 9,
      "outputs": [
        {
          "output_type": "stream",
          "name": "stdout",
          "text": [
            "Available items: {'apple': 50, 'banana': 20, 'milk': 40, 'bread': 30, 'chocolate': 60}\n",
            "Enter item 1: milk\n",
            "Enter item 2: banana\n",
            "Enter item 3: bread\n",
            "Total Bill = $ 90\n"
          ]
        }
      ]
    },
    {
      "cell_type": "markdown",
      "source": [
        "List Programs\n",
        "1. Find Pairs with Target Sum"
      ],
      "metadata": {
        "id": "SBTHUDJQX5s9"
      }
    },
    {
      "cell_type": "code",
      "source": [
        "nums = [2, 4, 3, 7, 5]\n",
        "target = 7\n",
        "\n",
        "pairs = []\n",
        "for i in range(len(nums)):\n",
        "    for j in range(i+1, len(nums)):\n",
        "        if nums[i] + nums[j] == target:\n",
        "            pairs.append((nums[i], nums[j]))\n",
        "\n",
        "print(\"Pairs with sum\", target, \":\", pairs)\n"
      ],
      "metadata": {
        "colab": {
          "base_uri": "https://localhost:8080/"
        },
        "id": "krtpSmnhWfXt",
        "outputId": "13fbfb5f-3dbf-4337-bd56-087639eefb86"
      },
      "execution_count": 17,
      "outputs": [
        {
          "output_type": "stream",
          "name": "stdout",
          "text": [
            "Pairs with sum 7 : [(2, 5), (4, 3)]\n"
          ]
        }
      ]
    },
    {
      "cell_type": "markdown",
      "source": [
        "2. Rotate a List by k"
      ],
      "metadata": {
        "id": "WoetsdrnX_j7"
      }
    },
    {
      "cell_type": "code",
      "source": [
        "nums = [1, 2, 3, 4, 5]\n",
        "k = 2\n",
        "k = k % len(nums)\n",
        "\n",
        "rotated = nums[-k:] + nums[:-k]\n",
        "print(\"Rotated List:\", rotated)"
      ],
      "metadata": {
        "colab": {
          "base_uri": "https://localhost:8080/"
        },
        "id": "BN2UJqAIWkzG",
        "outputId": "1d958e57-35ae-488f-f571-0ea88f047594"
      },
      "execution_count": 18,
      "outputs": [
        {
          "output_type": "stream",
          "name": "stdout",
          "text": [
            "Rotated List: [4, 5, 1, 2, 3]\n"
          ]
        }
      ]
    },
    {
      "cell_type": "markdown",
      "source": [
        "3. Remove Names Starting with Vowel"
      ],
      "metadata": {
        "id": "YFKa0CViYC3Y"
      }
    },
    {
      "cell_type": "code",
      "source": [
        "names = [\"Alice\", \"Eve\", \"Bob\", \"Uma\", \"Charlie\", \"Oscar\"]\n",
        "result = [name for name in names if name[0].lower() not in \"aeiou\"]\n",
        "print(\"Names after removing vowels:\", result)\n"
      ],
      "metadata": {
        "colab": {
          "base_uri": "https://localhost:8080/"
        },
        "id": "DwBeAeSyW96U",
        "outputId": "e02dc848-589d-40fc-a2e1-6a793086ebed"
      },
      "execution_count": 19,
      "outputs": [
        {
          "output_type": "stream",
          "name": "stdout",
          "text": [
            "Names after removing vowels: ['Bob', 'Charlie']\n"
          ]
        }
      ]
    },
    {
      "cell_type": "markdown",
      "source": [
        "Tuple Programs\n",
        "1. Find Student with Highest Score"
      ],
      "metadata": {
        "id": "d9Pl7WcDYHHg"
      }
    },
    {
      "cell_type": "code",
      "source": [
        "students = [(\"Alice\", 85), (\"Bob\", 92), (\"Charlie\", 78)]\n",
        "topper = max(students, key=lambda x: x[1])\n",
        "print(\"Topper:\", topper)\n"
      ],
      "metadata": {
        "colab": {
          "base_uri": "https://localhost:8080/"
        },
        "id": "XZujYozmXCE8",
        "outputId": "603cd899-0fb5-4604-aecb-65433803f8d0"
      },
      "execution_count": 11,
      "outputs": [
        {
          "output_type": "stream",
          "name": "stdout",
          "text": [
            "Topper: ('Bob', 92)\n"
          ]
        }
      ]
    },
    {
      "cell_type": "markdown",
      "source": [
        "2. Sort by Score (Descending)"
      ],
      "metadata": {
        "id": "6MdsdXkjYLHe"
      }
    },
    {
      "cell_type": "code",
      "source": [
        "sorted_students = sorted(students, key=lambda x: x[1], reverse=True)\n",
        "print(\"Sorted by score:\", sorted_students)\n"
      ],
      "metadata": {
        "colab": {
          "base_uri": "https://localhost:8080/"
        },
        "id": "2XOG3vnNXGW-",
        "outputId": "5c205e4e-6e75-417d-e609-ab2317763d46"
      },
      "execution_count": 21,
      "outputs": [
        {
          "output_type": "stream",
          "name": "stdout",
          "text": [
            "Sorted by score: [('Bob', 92), ('Alice', 85), ('Charlie', 78)]\n"
          ]
        }
      ]
    },
    {
      "cell_type": "markdown",
      "source": [
        "3. Find All Pairs from Two Tuples"
      ],
      "metadata": {
        "id": "Y6w9_GHCYPGs"
      }
    },
    {
      "cell_type": "code",
      "source": [
        "t1 = (1, 2)\n",
        "t2 = (3, 4)\n",
        "\n",
        "pairs = [(a, b) for a in t1 for b in t2]\n",
        "print(\"All pairs:\", pairs)\n"
      ],
      "metadata": {
        "colab": {
          "base_uri": "https://localhost:8080/"
        },
        "id": "tpgFfIOXXMAm",
        "outputId": "1c2bfbe2-5724-4971-cc8b-dae5d95a5c4b"
      },
      "execution_count": 22,
      "outputs": [
        {
          "output_type": "stream",
          "name": "stdout",
          "text": [
            "All pairs: [(1, 3), (1, 4), (2, 3), (2, 4)]\n"
          ]
        }
      ]
    },
    {
      "cell_type": "markdown",
      "source": [
        "4. Check if Tuple is Strictly Increasing"
      ],
      "metadata": {
        "id": "ibAdAJ6mYTWy"
      }
    },
    {
      "cell_type": "code",
      "source": [
        "nums = (1, 2, 3, 4, 5)\n",
        "is_increasing = all(nums[i] < nums[i+1] for i in range(len(nums)-1))\n",
        "print(\"Strictly Increasing:\", is_increasing)\n"
      ],
      "metadata": {
        "colab": {
          "base_uri": "https://localhost:8080/"
        },
        "id": "60urW5McXNss",
        "outputId": "2f647f3c-1f3a-4e9f-cf7d-35efde35fadd"
      },
      "execution_count": 13,
      "outputs": [
        {
          "output_type": "stream",
          "name": "stdout",
          "text": [
            "Strictly Increasing: True\n"
          ]
        }
      ]
    },
    {
      "cell_type": "markdown",
      "source": [
        "###Set Programs"
      ],
      "metadata": {
        "id": "rp0yqZZeYiVs"
      }
    },
    {
      "cell_type": "code",
      "source": [
        "cricket = {\"Alice\", \"Bob\", \"Charlie\"}\n",
        "football = {\"Bob\", \"David\", \"Eve\"}\n",
        "\n",
        "print(\"Both games:\", cricket & football)\n",
        "\n",
        "print(\"Only Cricket:\", cricket - football)\n",
        "\n",
        "print(\"Either but not both:\", cricket ^ football)\n",
        "\n",
        "list1 = [1, 2, 3]\n",
        "list2 = [4, 5, 6]\n",
        "print(\"Disjoint:\", set(list1).isdisjoint(set(list2)))\n",
        "\n",
        "s = \"Hello, have a great day!\"\n",
        "vowels = set(\"aeiou\")\n",
        "found = {ch for ch in s.lower() if ch in vowels}\n",
        "print(\"Unique vowels:\", found)\n"
      ],
      "metadata": {
        "colab": {
          "base_uri": "https://localhost:8080/"
        },
        "id": "izNEE1IPXRn-",
        "outputId": "6c23684b-217b-4cac-e86e-723b5f03cecf"
      },
      "execution_count": 24,
      "outputs": [
        {
          "output_type": "stream",
          "name": "stdout",
          "text": [
            "Both games: {'Bob'}\n",
            "Only Cricket: {'Charlie', 'Alice'}\n",
            "Either but not both: {'Charlie', 'Eve', 'David', 'Alice'}\n",
            "Disjoint: True\n",
            "Unique vowels: {'a', 'e', 'o'}\n"
          ]
        }
      ]
    },
    {
      "cell_type": "markdown",
      "source": [
        "###Dictionary Programs"
      ],
      "metadata": {
        "id": "vwfGfEcQYmct"
      }
    },
    {
      "cell_type": "code",
      "source": [
        "employees = {\"John\": 50000, \"Alice\": 60000, \"Bob\": 45000}\n",
        "\n",
        "max_salary = max(employees, key=employees.get)\n",
        "print(\"Employee with max salary:\", max_salary)\n",
        "\n",
        "updated = {k: int(v*1.1) for k, v in employees.items()}\n",
        "print(\"Updated salaries:\", updated)\n",
        "\n",
        "words = [\"apple\", \"bat\", \"car\", \"elephant\"]\n",
        "grouped = {}\n",
        "for w in words:\n",
        "    grouped.setdefault(len(w), []).append(w)\n",
        "print(\"Grouped by length:\", grouped)\n",
        "\n",
        "text = \"the cat and the dog\"\n",
        "word_count = {}\n",
        "for word in text.split():\n",
        "    word_count[word] = word_count.get(word, 0) + 1\n",
        "print(\"Word count:\", word_count)\n"
      ],
      "metadata": {
        "colab": {
          "base_uri": "https://localhost:8080/"
        },
        "id": "qU6oVzjKXZI7",
        "outputId": "183fbfe7-568a-4ce4-bb52-1aa1a194e6ef"
      },
      "execution_count": 14,
      "outputs": [
        {
          "output_type": "stream",
          "name": "stdout",
          "text": [
            "Employee with max salary: Alice\n",
            "Updated salaries: {'John': 55000, 'Alice': 66000, 'Bob': 49500}\n",
            "Grouped by length: {5: ['apple'], 3: ['bat', 'car'], 8: ['elephant']}\n",
            "Word count: {'the': 2, 'cat': 1, 'and': 1, 'dog': 1}\n"
          ]
        }
      ]
    },
    {
      "cell_type": "markdown",
      "source": [
        "##2.)\n",
        "Mixed (List + Tuple + Set + Dictionary)\n",
        "\n",
        "You are given a list of transactions as tuples:\n",
        "\n",
        "transactions = [\n",
        "    (\"Alice\", \"Shoes\", 2000),\n",
        "    (\"Bob\", \"Shirt\", 1200),\n",
        "    (\"Alice\", \"Bag\", 2500),\n",
        "    (\"Charlie\", \"Shoes\", 2000)\n",
        "]\n",
        "\n",
        "1.Find total spending of each customer (use dictionary).\n",
        "\n",
        "2.Find all unique items purchased (use set)."
      ],
      "metadata": {
        "id": "ZZ3GufzqY2q3"
      }
    },
    {
      "cell_type": "code",
      "source": [
        "transactions = [\n",
        "    (\"Alice\", \"Shoes\", 2000),\n",
        "    (\"Bob\", \"Shirt\", 1200),\n",
        "    (\"Alice\", \"Bag\", 2500),\n",
        "    (\"Charlie\", \"Shoes\", 2000)\n",
        "]\n",
        "\n",
        "spending = {}\n",
        "for name, item, price in transactions:\n",
        "    spending[name] = spending.get(name, 0) + price\n",
        "\n",
        "print(\"Total Spending of each customer:\", spending)\n",
        "\n",
        "unique_items = {item for _, item, _ in transactions}\n",
        "print(\"Unique items purchased:\", unique_items)\n"
      ],
      "metadata": {
        "colab": {
          "base_uri": "https://localhost:8080/"
        },
        "id": "j0RJubthZYut",
        "outputId": "9b0cae4f-4c6f-44c7-ec16-52947919be26"
      },
      "execution_count": 26,
      "outputs": [
        {
          "output_type": "stream",
          "name": "stdout",
          "text": [
            "Total Spending of each customer: {'Alice': 4500, 'Bob': 1200, 'Charlie': 2000}\n",
            "Unique items purchased: {'Bag', 'Shoes', 'Shirt'}\n"
          ]
        }
      ]
    },
    {
      "cell_type": "markdown",
      "source": [
        "##3.)\n",
        "Mixed (List + Tuple + Set + Dictionary)\n",
        "\n",
        "You are given a list of transactions as tuples:\n",
        "\n",
        "transactions = [\n",
        "    (\"Alice\", \"Shoes\", 2000),\n",
        "    (\"Bob\", \"Shirt\", 1200),\n",
        "    (\"Alice\", \"Bag\", 2500),\n",
        "    (\"Charlie\", \"Shoes\", 2000)\n",
        "]\n",
        "\n",
        "1.Find total spending of each customer (use dictionary).\n",
        "\n",
        "2.Find all unique items purchased (use set)."
      ],
      "metadata": {
        "id": "02wSksTaaloY"
      }
    },
    {
      "cell_type": "markdown",
      "source": [
        "1. Remove Duplicate Dictionaries from a List"
      ],
      "metadata": {
        "id": "gJZFLtEnbi4f"
      }
    },
    {
      "cell_type": "code",
      "source": [
        "data = [\n",
        "    {\"name\": \"Alice\", \"age\": 25},\n",
        "    {\"name\": \"Bob\", \"age\": 30},\n",
        "    {\"name\": \"Alice\", \"age\": 25}\n",
        "]\n",
        "\n",
        "unique_data = []\n",
        "seen = set()\n",
        "\n",
        "for d in data:\n",
        "    t = tuple(d.items())\n",
        "    if t not in seen:\n",
        "        seen.add(t)\n",
        "        unique_data.append(d)\n",
        "\n",
        "print(\"After removing duplicates:\", unique_data)\n"
      ],
      "metadata": {
        "colab": {
          "base_uri": "https://localhost:8080/"
        },
        "id": "9T0mrjB8bNPs",
        "outputId": "19e417e6-78c1-4d8f-9edb-e54020b0df25"
      },
      "execution_count": 27,
      "outputs": [
        {
          "output_type": "stream",
          "name": "stdout",
          "text": [
            "After removing duplicates: [{'name': 'Alice', 'age': 25}, {'name': 'Bob', 'age': 30}]\n"
          ]
        }
      ]
    },
    {
      "cell_type": "markdown",
      "source": [
        "2. Top 3 Most Frequent Words in a Paragraph"
      ],
      "metadata": {
        "id": "ggbRFqV7bm7F"
      }
    },
    {
      "cell_type": "code",
      "source": [
        "paragraph = \"the cat and the dog chased the cat and the mouse\"\n",
        "\n",
        "word_count = {}\n",
        "for word in paragraph.split():\n",
        "    word_count[word] = word_count.get(word, 0) + 1\n",
        "\n",
        "sorted_words = sorted(word_count.items(), key=lambda x: x[1], reverse=True)\n",
        "\n",
        "top3 = sorted_words[:3]\n",
        "\n",
        "print(\"Word Count:\", word_count)\n",
        "print(\"Top 3 most frequent words:\", top3)\n"
      ],
      "metadata": {
        "colab": {
          "base_uri": "https://localhost:8080/"
        },
        "id": "Ul6ULj7IbcDj",
        "outputId": "93883fcc-367a-4718-f734-73dd7d8db368"
      },
      "execution_count": 28,
      "outputs": [
        {
          "output_type": "stream",
          "name": "stdout",
          "text": [
            "Word Count: {'the': 4, 'cat': 2, 'and': 2, 'dog': 1, 'chased': 1, 'mouse': 1}\n",
            "Top 3 most frequent words: [('the', 4), ('cat', 2), ('and', 2)]\n"
          ]
        }
      ]
    },
    {
      "cell_type": "markdown",
      "source": [
        "##4.)\n",
        "Write a program to check if two lists are anagrams of each other (use dictionary for frequency count)."
      ],
      "metadata": {
        "id": "c72KiJtXcpnW"
      }
    },
    {
      "cell_type": "code",
      "source": [
        "def are_anagrams(list1, list2):\n",
        "    if len(list1) != len(list2):\n",
        "        return False\n",
        "\n",
        "    freq1 = {}\n",
        "    for item in list1:\n",
        "        freq1[item] = freq1.get(item, 0) + 1\n",
        "\n",
        "    freq2 = {}\n",
        "    for item in list2:\n",
        "        freq2[item] = freq2.get(item, 0) + 1\n",
        "\n",
        "    return freq1 == freq2\n",
        "\n",
        "\n",
        "list1 = ['a', 'b', 'c']\n",
        "list2 = ['c', 'a', 'b']\n",
        "print(\"Are Anagrams?\", are_anagrams(list1, list2))  # True\n",
        "\n",
        "list1 = [1, 2, 3, 4]\n",
        "list2 = [4, 3, 2, 5]\n",
        "print(\"Are Anagrams?\", are_anagrams(list1, list2))  # False\n"
      ],
      "metadata": {
        "colab": {
          "base_uri": "https://localhost:8080/"
        },
        "id": "qYgc5P9Tbr1p",
        "outputId": "d2ce82d7-9c9f-41db-ce62-98f55d54d6a7"
      },
      "execution_count": 29,
      "outputs": [
        {
          "output_type": "stream",
          "name": "stdout",
          "text": [
            "Are Anagrams? True\n",
            "Are Anagrams? False\n"
          ]
        }
      ]
    },
    {
      "cell_type": "markdown",
      "source": [
        "1. Check if a string is a palindrome"
      ],
      "metadata": {
        "id": "YYUkcUqs7_OP"
      }
    },
    {
      "cell_type": "code",
      "source": [
        "text = input(\"Enter a string: \")\n",
        "\n",
        "cleaned = text.replace(\" \", \"\").lower()\n",
        "\n",
        "if cleaned == cleaned[::-1]:\n",
        "    print(\"Palindrome\")\n",
        "else:\n",
        "    print(\"Not a Palindrome\")\n"
      ],
      "metadata": {
        "colab": {
          "base_uri": "https://localhost:8080/"
        },
        "id": "8ypTVFw17La6",
        "outputId": "3612d7a3-2caf-4652-e5c4-183a6f3868e1"
      },
      "execution_count": 3,
      "outputs": [
        {
          "output_type": "stream",
          "name": "stdout",
          "text": [
            "Enter a string: garag\n",
            "Palindrome\n"
          ]
        }
      ]
    },
    {
      "cell_type": "markdown",
      "source": [
        "2. Count vowels, consonants, digits, and spaces"
      ],
      "metadata": {
        "id": "blf4KbGn8D9V"
      }
    },
    {
      "cell_type": "code",
      "source": [
        "text = input(\"Enter a string: \")\n",
        "\n",
        "vowels = consonants = digits = spaces = 0\n",
        "for ch in text:\n",
        "    if ch.lower() in \"aeiou\":\n",
        "        vowels += 1\n",
        "    elif ch.isalpha():\n",
        "        consonants += 1\n",
        "    elif ch.isdigit():\n",
        "        digits += 1\n",
        "    elif ch.isspace():\n",
        "        spaces += 1\n",
        "\n",
        "print(\"Vowels:\", vowels)\n",
        "print(\"Consonants:\", consonants)\n",
        "print(\"Digits:\", digits)\n",
        "print(\"Spaces:\", spaces)\n"
      ],
      "metadata": {
        "colab": {
          "base_uri": "https://localhost:8080/"
        },
        "id": "kCsMsV6D7YGJ",
        "outputId": "124470f2-d084-4a1b-f6c1-0e79366da8ec"
      },
      "execution_count": 4,
      "outputs": [
        {
          "output_type": "stream",
          "name": "stdout",
          "text": [
            "Enter a string: pallavi\n",
            "Vowels: 3\n",
            "Consonants: 4\n",
            "Digits: 0\n",
            "Spaces: 0\n"
          ]
        }
      ]
    },
    {
      "cell_type": "markdown",
      "source": [
        "3. Remove all special characters"
      ],
      "metadata": {
        "id": "gpT34Jrq8IR6"
      }
    },
    {
      "cell_type": "code",
      "source": [
        "import re\n",
        "\n",
        "text = input(\"Enter a string: \")\n",
        "# Keep only letters, digits, and spaces\n",
        "cleaned = re.sub(r'[^A-Za-z0-9 ]+', '', text)\n",
        "print(\"String after removing special characters:\", cleaned)\n"
      ],
      "metadata": {
        "colab": {
          "base_uri": "https://localhost:8080/"
        },
        "id": "pXcNI_BO7g2j",
        "outputId": "3a9918d9-a980-469a-8ce0-d5e31cf2312e"
      },
      "execution_count": 6,
      "outputs": [
        {
          "output_type": "stream",
          "name": "stdout",
          "text": [
            "Enter a string: pallu@1234@#eft\n",
            "String after removing special characters: pallu1234eft\n"
          ]
        }
      ]
    },
    {
      "cell_type": "markdown",
      "source": [
        "4. Find the longest word in a sentence"
      ],
      "metadata": {
        "id": "Py6HKLHB8LT6"
      }
    },
    {
      "cell_type": "code",
      "source": [
        "sentence = input(\"Enter a sentence: \")\n",
        "words = sentence.split()\n",
        "longest = max(words, key=len)\n",
        "print(\"Longest word:\", longest)\n"
      ],
      "metadata": {
        "colab": {
          "base_uri": "https://localhost:8080/"
        },
        "id": "48iQil577xut",
        "outputId": "bbdc9c71-59d5-40c8-8a4c-5502282b3230"
      },
      "execution_count": 7,
      "outputs": [
        {
          "output_type": "stream",
          "name": "stdout",
          "text": [
            "Enter a sentence: pallavi is an intelligent girl\n",
            "Longest word: intelligent\n"
          ]
        }
      ]
    }
  ]
}