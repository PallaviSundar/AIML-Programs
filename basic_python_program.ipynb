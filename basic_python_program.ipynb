{
  "nbformat": 4,
  "nbformat_minor": 0,
  "metadata": {
    "colab": {
      "provenance": [],
      "authorship_tag": "ABX9TyOrZKH7y/4QFLMrSOrPlvgI",
      "include_colab_link": true
    },
    "kernelspec": {
      "name": "python3",
      "display_name": "Python 3"
    },
    "language_info": {
      "name": "python"
    }
  },
  "cells": [
    {
      "cell_type": "markdown",
      "metadata": {
        "id": "view-in-github",
        "colab_type": "text"
      },
      "source": [
        "<a href=\"https://colab.research.google.com/github/PallaviSundar/AIML-Programs/blob/main/basic_python_program.ipynb\" target=\"_parent\"><img src=\"https://colab.research.google.com/assets/colab-badge.svg\" alt=\"Open In Colab\"/></a>"
      ]
    },
    {
      "cell_type": "markdown",
      "source": [
        "### Positive number in a range"
      ],
      "metadata": {
        "id": "LmrVk8UBpF8s"
      }
    },
    {
      "cell_type": "code",
      "execution_count": null,
      "metadata": {
        "colab": {
          "base_uri": "https://localhost:8080/"
        },
        "id": "PJR0R_bUsjh7",
        "outputId": "9feb8b52-c6cc-46d6-8af5-65e3072528e9"
      },
      "outputs": [
        {
          "output_type": "stream",
          "name": "stdout",
          "text": [
            "Positive numbers in the range:\n",
            "1\n",
            "2\n",
            "3\n"
          ]
        }
      ],
      "source": [
        "start = -5\n",
        "end = 3\n",
        "\n",
        "print(\"Positive numbers in the range:\")\n",
        "for val in range(start, end + 1):\n",
        "    if val > 0:\n",
        "        print(val)"
      ]
    },
    {
      "cell_type": "markdown",
      "source": [
        "### Duplicates from a list of integers"
      ],
      "metadata": {
        "id": "UXdqJ0pgpbmF"
      }
    },
    {
      "cell_type": "code",
      "source": [
        "a = [1, 2, 3, 1, 2, 4, 5, 6, 5]\n",
        "d = {}\n",
        "for n in a:\n",
        "    d[n] = d.get(n, 0) + 1\n",
        "dup = [n for n, c in d.items() if c > 1]\n",
        "print(dup)"
      ],
      "metadata": {
        "colab": {
          "base_uri": "https://localhost:8080/"
        },
        "id": "NHC7a85bsrGx",
        "outputId": "332493da-aac9-4303-95e6-0fa8dd5f204e"
      },
      "execution_count": null,
      "outputs": [
        {
          "output_type": "stream",
          "name": "stdout",
          "text": [
            "[1, 2, 5]\n"
          ]
        }
      ]
    },
    {
      "cell_type": "markdown",
      "source": [
        "### Add two matrix"
      ],
      "metadata": {
        "id": "ksiWBSvRpljh"
      }
    },
    {
      "cell_type": "code",
      "source": [
        "import numpy as np\n",
        "a = np.array([[1,2,3], [5,6,7]])\n",
        "b = np.array([[1,6,4] ,[9,8,7]])\n",
        "res = a + b\n",
        "print(res)"
      ],
      "metadata": {
        "colab": {
          "base_uri": "https://localhost:8080/"
        },
        "id": "AORmHeXJsvdc",
        "outputId": "130b5456-59db-4472-ecdd-31feef541cdb"
      },
      "execution_count": null,
      "outputs": [
        {
          "output_type": "stream",
          "name": "stdout",
          "text": [
            "[[ 2  8  7]\n",
            " [14 14 14]]\n"
          ]
        }
      ]
    },
    {
      "cell_type": "markdown",
      "source": [
        "### Matrix Product"
      ],
      "metadata": {
        "id": "h-tXAPgOpso6"
      }
    },
    {
      "cell_type": "code",
      "source": [
        "matrix_a = [[1, 2], [3, 4]]\n",
        "matrix_b = [[5, 6], [7, 8]]\n",
        "\n",
        "result = [[0, 0], [0, 0]]\n",
        "\n",
        "for i in range(2):\n",
        "    for j in range(2):\n",
        "        result[i][j] = (matrix_a[i][0] * matrix_b[0][j] +\n",
        "                        matrix_a[i][1] * matrix_b[1][j])\n",
        "\n",
        "for row in result:\n",
        "    print(row)"
      ],
      "metadata": {
        "colab": {
          "base_uri": "https://localhost:8080/"
        },
        "id": "dkkDU5LqtCI7",
        "outputId": "6a151f05-a16e-4d2e-d850-621a35c6ca68"
      },
      "execution_count": null,
      "outputs": [
        {
          "output_type": "stream",
          "name": "stdout",
          "text": [
            "[19, 22]\n",
            "[43, 50]\n"
          ]
        }
      ]
    }
  ]
}