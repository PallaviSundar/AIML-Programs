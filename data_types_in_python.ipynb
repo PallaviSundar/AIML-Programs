{
  "nbformat": 4,
  "nbformat_minor": 0,
  "metadata": {
    "colab": {
      "provenance": [],
      "authorship_tag": "ABX9TyO7BXF6auehpF70y8/r0JZL",
      "include_colab_link": true
    },
    "kernelspec": {
      "name": "python3",
      "display_name": "Python 3"
    },
    "language_info": {
      "name": "python"
    }
  },
  "cells": [
    {
      "cell_type": "markdown",
      "metadata": {
        "id": "view-in-github",
        "colab_type": "text"
      },
      "source": [
        "<a href=\"https://colab.research.google.com/github/PallaviSundar/AIML-Programs/blob/main/data_types_in_python.ipynb\" target=\"_parent\"><img src=\"https://colab.research.google.com/assets/colab-badge.svg\" alt=\"Open In Colab\"/></a>"
      ]
    },
    {
      "cell_type": "markdown",
      "source": [
        "\n",
        "\n",
        "```\n",
        "`# This is formatted as code`\n",
        "```\n",
        "\n"
      ],
      "metadata": {
        "id": "ka5Ej6YszJzT"
      }
    },
    {
      "cell_type": "markdown",
      "source": [
        "### 1.NUmerals"
      ],
      "metadata": {
        "id": "IOm_m1bi5vPf"
      }
    },
    {
      "cell_type": "code",
      "execution_count": null,
      "metadata": {
        "colab": {
          "base_uri": "https://localhost:8080/"
        },
        "id": "Nje_yPALxdmc",
        "outputId": "7505e800-f423-4c39-a65d-0850175c56e6"
      },
      "outputs": [
        {
          "output_type": "stream",
          "name": "stdout",
          "text": [
            "Integer: 10 <class 'int'>\n",
            "Float: 10.5 <class 'float'>\n",
            "Complex: (2+3j) <class 'complex'>\n"
          ]
        }
      ],
      "source": [
        "a = 10\n",
        "print(\"Integer:\",a,type(a))\n",
        "b = 10.5\n",
        "print(\"Float:\",b,type(b))\n",
        "c = 2 + 3j\n",
        "print(\"Complex:\",c,type(c))"
      ]
    },
    {
      "cell_type": "markdown",
      "source": [
        "### 2. Boolean\n"
      ],
      "metadata": {
        "id": "r9mpwFXF1biq"
      }
    },
    {
      "cell_type": "code",
      "source": [
        "x = True\n",
        "y = False\n",
        "print(\"boolean x:\",x, type(x))\n",
        "print(\"boolean y:\",y, type(y))"
      ],
      "metadata": {
        "colab": {
          "base_uri": "https://localhost:8080/"
        },
        "id": "HOPe5f8Xzpn3",
        "outputId": "f2139874-eab0-4538-a4da-ee33cd752c19"
      },
      "execution_count": null,
      "outputs": [
        {
          "output_type": "stream",
          "name": "stdout",
          "text": [
            "boolean x: True <class 'bool'>\n",
            "boolean y: False <class 'bool'>\n"
          ]
        }
      ]
    },
    {
      "cell_type": "markdown",
      "source": [
        "### 3. Sequence TYpe\n",
        "used to store mulpiple values in an order\n"
      ],
      "metadata": {
        "id": "Uh0SHUsC0hKI"
      }
    },
    {
      "cell_type": "markdown",
      "source": [
        "#### string\n",
        "a String is a sequence of character"
      ],
      "metadata": {
        "id": "RtHMRFxK06xG"
      }
    },
    {
      "cell_type": "code",
      "source": [
        "s = \"Python\"\n",
        "print(\"String:\",s, type(s))"
      ],
      "metadata": {
        "colab": {
          "base_uri": "https://localhost:8080/"
        },
        "id": "xDVy53x301kW",
        "outputId": "4a4ed265-eb13-47f4-ab69-cb31fbbcf6de"
      },
      "execution_count": null,
      "outputs": [
        {
          "output_type": "stream",
          "name": "stdout",
          "text": [
            "String: Python <class 'str'>\n"
          ]
        }
      ]
    },
    {
      "cell_type": "markdown",
      "source": [
        "#### List\n",
        "a list is an ordered,changeble collection"
      ],
      "metadata": {
        "id": "ntvvaQxY1t-c"
      }
    },
    {
      "cell_type": "code",
      "source": [
        "a = [10,20,30,40.50]\n",
        "print(\"list:\",a, type(a))"
      ],
      "metadata": {
        "colab": {
          "base_uri": "https://localhost:8080/"
        },
        "id": "ksVCHzts1ybO",
        "outputId": "f49ac0f7-5083-41d6-e02a-c4567f910287"
      },
      "execution_count": null,
      "outputs": [
        {
          "output_type": "stream",
          "name": "stdout",
          "text": [
            "list: [10, 20, 30, 40.5] <class 'list'>\n"
          ]
        }
      ]
    },
    {
      "cell_type": "markdown",
      "source": [
        "#### tuple\n",
        "a tuple is ordered and unchangeble"
      ],
      "metadata": {
        "id": "aE1N2kjK2Udx"
      }
    },
    {
      "cell_type": "code",
      "source": [
        "t = (10,20,30)\n",
        "print(\"Tuple:\",t, type(t))"
      ],
      "metadata": {
        "colab": {
          "base_uri": "https://localhost:8080/"
        },
        "id": "n34UctaX2f25",
        "outputId": "e1d804d5-4e41-4fc7-eb0e-7061bab77c0e"
      },
      "execution_count": null,
      "outputs": [
        {
          "output_type": "stream",
          "name": "stdout",
          "text": [
            "Tuple: (10, 20, 30) <class 'tuple'>\n"
          ]
        }
      ]
    },
    {
      "cell_type": "markdown",
      "source": [
        "### 4. Mapping\n",
        "used for key and value pairs"
      ],
      "metadata": {
        "id": "hFP457ry26_O"
      }
    },
    {
      "cell_type": "markdown",
      "source": [
        "#### Dictonary\n",
        "it stores data as key-value pairs"
      ],
      "metadata": {
        "id": "7XcjEHZI3IOm"
      }
    },
    {
      "cell_type": "code",
      "source": [
        "student = {\"name\": \"PallaviSundar\", \"age\": 20, \"clg\": \"RL jalappa\", \"Branch\": \"CS\", \"USN\": 401, \"gender\": \"female\"}\n",
        "print(\"Dictionary:\",d, type(d))"
      ],
      "metadata": {
        "colab": {
          "base_uri": "https://localhost:8080/"
        },
        "id": "0xgP3aLc3TcU",
        "outputId": "7de8a517-0702-4f47-dd50-785a65f7f327"
      },
      "execution_count": null,
      "outputs": [
        {
          "output_type": "stream",
          "name": "stdout",
          "text": [
            "Dictionary: {'name': 'PallaviSundar', 'age': 20, 'clg': 'RL jalappa', 'Branch': 'CS', 'USN': 401, 'gender': 'female'} <class 'dict'>\n"
          ]
        }
      ]
    },
    {
      "cell_type": "markdown",
      "source": [
        "### 5.Set\n",
        "used to store unique values"
      ],
      "metadata": {
        "id": "8kRxecxX4hL3"
      }
    },
    {
      "cell_type": "markdown",
      "source": [
        "#### Set\n",
        "an unordered collection of unique items"
      ],
      "metadata": {
        "id": "oW2iPW5t4otU"
      }
    },
    {
      "cell_type": "code",
      "source": [
        "set1 = {10,20,30}\n",
        "print(\"Set:\",set1,type(set1))"
      ],
      "metadata": {
        "colab": {
          "base_uri": "https://localhost:8080/"
        },
        "id": "7MzQUsoa4xhK",
        "outputId": "11903fad-560a-4d6b-f440-0f29ab82f7fa"
      },
      "execution_count": null,
      "outputs": [
        {
          "output_type": "stream",
          "name": "stdout",
          "text": [
            "Set: {10, 20, 30} <class 'set'>\n"
          ]
        }
      ]
    },
    {
      "cell_type": "markdown",
      "source": [
        "#### frozenSet\n",
        "an immutable version of collection of unique elements"
      ],
      "metadata": {
        "id": "R5TkETak5BF-"
      }
    },
    {
      "cell_type": "code",
      "source": [
        "fset = frozenset([10,20,30,40])\n",
        "print(\"Frozenset:\",fset,type(fset))"
      ],
      "metadata": {
        "colab": {
          "base_uri": "https://localhost:8080/"
        },
        "id": "2c2SZRLg5RLl",
        "outputId": "8409e3f1-e9c4-4244-f44d-afc4445f8396"
      },
      "execution_count": null,
      "outputs": [
        {
          "output_type": "stream",
          "name": "stdout",
          "text": [
            "Frozenset: frozenset({40, 10, 20, 30}) <class 'frozenset'>\n"
          ]
        }
      ]
    }
  ]
}