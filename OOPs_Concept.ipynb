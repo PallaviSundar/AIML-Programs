{
  "nbformat": 4,
  "nbformat_minor": 0,
  "metadata": {
    "colab": {
      "provenance": [],
      "authorship_tag": "ABX9TyPwb5XH31wLosGC0t+CSVlr",
      "include_colab_link": true
    },
    "kernelspec": {
      "name": "python3",
      "display_name": "Python 3"
    },
    "language_info": {
      "name": "python"
    }
  },
  "cells": [
    {
      "cell_type": "markdown",
      "metadata": {
        "id": "view-in-github",
        "colab_type": "text"
      },
      "source": [
        "<a href=\"https://colab.research.google.com/github/PallaviSundar/AIML-Programs/blob/main/OOPs_Concept.ipynb\" target=\"_parent\"><img src=\"https://colab.research.google.com/assets/colab-badge.svg\" alt=\"Open In Colab\"/></a>"
      ]
    },
    {
      "cell_type": "markdown",
      "source": [
        "## what is OOPs\n",
        "Stands for object oriented programming"
      ],
      "metadata": {
        "id": "74GXXzqf1MkN"
      }
    },
    {
      "cell_type": "markdown",
      "source": [
        "## OOPs helps:\n",
        "1.keep code clean and organized\n",
        "2.code easily\n",
        "3.group similar data and actions"
      ],
      "metadata": {
        "id": "gmys1wyM1XBt"
      }
    },
    {
      "cell_type": "markdown",
      "source": [
        "## OOPs concepts\n",
        "1.class and object\n",
        "2.constructor\n",
        "3.polymorpisum\n",
        "4.inheritance\n",
        "5.encapsulation\n",
        "6.abstraction"
      ],
      "metadata": {
        "id": "BgMiyoty1zIE"
      }
    },
    {
      "cell_type": "markdown",
      "source": [
        "## 1.\n",
        "###class  \n",
        "a class is a blueprint or a plan\n",
        "###object\n",
        "elememt involved buildb in  a class\n",
        "ex - class - car , object - my red car"
      ],
      "metadata": {
        "id": "fu98EvQj19yj"
      }
    },
    {
      "cell_type": "markdown",
      "source": [
        "the"
      ],
      "metadata": {
        "id": "8vU1XM2b2KfS"
      }
    },
    {
      "cell_type": "code",
      "execution_count": 2,
      "metadata": {
        "colab": {
          "base_uri": "https://localhost:8080/"
        },
        "id": "jKssGNTL1K6S",
        "outputId": "974cd43e-9b42-408f-9d66-8128c0f20721"
      },
      "outputs": [
        {
          "output_type": "stream",
          "name": "stdout",
          "text": [
            "blue\n",
            "skoda\n"
          ]
        }
      ],
      "source": [
        "class car:\n",
        "  colour='blue'\n",
        "  brand='skoda'\n",
        "car1=car()\n",
        "print(car1.colour)\n",
        "print(car1.brand)"
      ]
    },
    {
      "cell_type": "markdown",
      "source": [
        "## 2. Constructor(init)\n",
        "is an special method it run automatically when you create an object,\n",
        "it help to set values like name age etc"
      ],
      "metadata": {
        "id": "A5x7SX4o3YOP"
      }
    },
    {
      "cell_type": "code",
      "source": [
        "class Student:\n",
        "  def __init__(self,name,age):\n",
        "    self.name=name\n",
        "    self.age=age\n",
        "  def show(self):\n",
        "    print(\"Name:\",self.name)\n",
        "    print(\"Age:\",self.age)\n",
        "s1=Student(\"Puneeth\",15)\n",
        "s1.show()\n"
      ],
      "metadata": {
        "colab": {
          "base_uri": "https://localhost:8080/"
        },
        "id": "SkYBKrXv3KNx",
        "outputId": "e6a2910e-0da7-4b5b-a2a8-5d23925d2f33"
      },
      "execution_count": 7,
      "outputs": [
        {
          "output_type": "stream",
          "name": "stdout",
          "text": [
            "Name: Puneeth\n",
            "Age: 15\n"
          ]
        }
      ]
    },
    {
      "cell_type": "markdown",
      "source": [
        "## 3.Encapsulation\n",
        "hiding private data from outside the class. only you can access it using special methods"
      ],
      "metadata": {
        "id": "uVLQWwdA5rMa"
      }
    },
    {
      "cell_type": "code",
      "source": [
        "class Student:\n",
        "  def __init__(self,name,age):\n",
        "    self.name=name\n",
        "    self.__marks = 0       # private variable\n",
        "  def set_marks(self,marks):\n",
        "    self.__marks=marks\n",
        "  def get_marks(self):\n",
        "    return self.__marks\n",
        "s1=Student(\"Puneeth\",15)\n",
        "s1.set_marks(99)\n",
        "print(\"Marks:\",s1.get_marks())"
      ],
      "metadata": {
        "colab": {
          "base_uri": "https://localhost:8080/"
        },
        "id": "ylP9Ul2z58Bt",
        "outputId": "b3c02a85-a0bb-42fd-f952-cced13f0d39a"
      },
      "execution_count": 12,
      "outputs": [
        {
          "output_type": "stream",
          "name": "stdout",
          "text": [
            "Marks: 99\n"
          ]
        }
      ]
    },
    {
      "cell_type": "markdown",
      "source": [
        "## 4.Inheritance\n",
        "child class inherit the properties of parent class ."
      ],
      "metadata": {
        "id": "50kZaZrY7bAE"
      }
    },
    {
      "cell_type": "code",
      "source": [
        "class Animal:\n",
        "  def sound(self):\n",
        "    print(\"animal makes a sound\")\n",
        "class Dog(Animal):\n",
        "  def bark(self):\n",
        "    print(\"Dog barks\")\n",
        "d=Dog()\n",
        "d.sound()\n",
        "d.bark()"
      ],
      "metadata": {
        "colab": {
          "base_uri": "https://localhost:8080/"
        },
        "id": "LSplLaPf7nay",
        "outputId": "30a4d81d-0103-4352-ae60-63e1d980a224"
      },
      "execution_count": 16,
      "outputs": [
        {
          "output_type": "stream",
          "name": "stdout",
          "text": [
            "animal makes a sound\n",
            "Dog barks\n"
          ]
        }
      ]
    },
    {
      "cell_type": "markdown",
      "source": [
        "## 5. Polymorphism\n",
        "it means same name different work.\n",
        "one method name can behave differently for different classes"
      ],
      "metadata": {
        "id": "vuZ-scrw8hNm"
      }
    },
    {
      "cell_type": "code",
      "source": [
        "class Bird:\n",
        "  def sound(self):\n",
        "    print(\"Bird chrips\")\n",
        "class Cat:\n",
        "  def sound(self):\n",
        "    print(\"Cat meows\")\n",
        "for animal in Bird(),Cat():\n",
        "  animal.sound()\n"
      ],
      "metadata": {
        "colab": {
          "base_uri": "https://localhost:8080/"
        },
        "id": "psLidmY881oE",
        "outputId": "9804fe28-dc15-4868-f40a-6f6d8a7aba94"
      },
      "execution_count": 17,
      "outputs": [
        {
          "output_type": "stream",
          "name": "stdout",
          "text": [
            "Bird chrips\n",
            "Cat meows\n"
          ]
        }
      ]
    },
    {
      "cell_type": "markdown",
      "source": [
        "## 6. Abstrction\n",
        "means hiding complex parts and showing only whats needed"
      ],
      "metadata": {
        "id": "tlaPYxe39fxG"
      }
    },
    {
      "cell_type": "code",
      "source": [
        "from abc import ABC\n",
        "class Shape(ABC):\n",
        "  #abstractmethod\n",
        "  def area(self):\n",
        "    pass\n",
        "class Square(Shape):\n",
        "  def __init__(self,side):\n",
        "    self.side=side\n",
        "  def area(self):\n",
        "    return self.side*self.side\n",
        "s=Square(4)\n",
        "print(\"Area:\",s.area())"
      ],
      "metadata": {
        "colab": {
          "base_uri": "https://localhost:8080/"
        },
        "id": "GKlfoMMg9zt3",
        "outputId": "e35aacbf-16f5-4bff-c26e-14220ef8a0d6"
      },
      "execution_count": 20,
      "outputs": [
        {
          "output_type": "stream",
          "name": "stdout",
          "text": [
            "Area: 16\n"
          ]
        }
      ]
    }
  ]
}